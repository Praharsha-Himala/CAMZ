{
 "cells": [
  {
   "cell_type": "code",
   "execution_count": 2,
   "metadata": {},
   "outputs": [],
   "source": [
    "import os\n",
    "import shutil"
   ]
  },
  {
   "cell_type": "code",
   "execution_count": 3,
   "metadata": {},
   "outputs": [],
   "source": [
    "lablled_imgs = \"E:\\DIL\\Fish_classification_ViT\\labelled_data\"\n",
    "unlabelled_imgs = r\"E:\\DIL\\Fish_classification_ViT\\unlabelled_data\"\n",
    "dump = \"E:\\DIL\\Fish_classification_ViT\\dump\""
   ]
  },
  {
   "cell_type": "code",
   "execution_count": 4,
   "metadata": {},
   "outputs": [],
   "source": [
    "labeled_files = set(os.listdir(lablled_imgs))\n",
    "\n",
    "# Move labeled images from the unlabeled folder\n",
    "for file in os.listdir(unlabelled_imgs):\n",
    "    if file in labeled_files:\n",
    "        source_path = os.path.join(unlabelled_imgs, file)\n",
    "        target_path = os.path.join(dump, file)\n",
    "        shutil.move(source_path, target_path)\n",
    "        print(f\"Moved: {file}\")\n"
   ]
  }
 ],
 "metadata": {
  "kernelspec": {
   "display_name": "Python 3",
   "language": "python",
   "name": "python3"
  },
  "language_info": {
   "codemirror_mode": {
    "name": "ipython",
    "version": 3
   },
   "file_extension": ".py",
   "mimetype": "text/x-python",
   "name": "python",
   "nbconvert_exporter": "python",
   "pygments_lexer": "ipython3",
   "version": "3.11.9"
  }
 },
 "nbformat": 4,
 "nbformat_minor": 2
}
