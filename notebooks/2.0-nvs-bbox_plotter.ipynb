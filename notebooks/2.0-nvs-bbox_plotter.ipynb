{
 "cells": [
  {
   "cell_type": "code",
   "execution_count": 79,
   "metadata": {},
   "outputs": [],
   "source": [
    "import cv2\n",
    "import random\n",
    "import os\n",
    "import numpy as np\n",
    "import matplotlib.pyplot as plt"
   ]
  },
  {
   "cell_type": "code",
   "execution_count": 80,
   "metadata": {},
   "outputs": [],
   "source": [
    "def midpt_to_corners(box):\n",
    "\n",
    "    center_x,center_y,width,height = box\n",
    "\n",
    "    # Convert YOLO format (center_x, center_y, w, h) to (x1, y1, x2, y2)\n",
    "    x1 = int(center_x - width / 2)\n",
    "    y1 = int(center_y - height / 2)\n",
    "    x2 = int(center_x + width / 2)\n",
    "    y2 = int(center_y + height / 2)\n",
    "    return [x1,y1,x2,y2]\n",
    "\n",
    "def bbox_calculator(image, txt_file_path):\n",
    "        bbox = []\n",
    "        image_height, image_width, _ = image.shape\n",
    "        with open(txt_file_path, 'r') as file:\n",
    "                for line in file:\n",
    "                # Parse the YOLO annotation (class_id, center_x, center_y, width, height)\n",
    "                    data = line.strip().split()\n",
    "                    center_x = float(data[1]) * image_width\n",
    "                    center_y = float(data[2]) * image_height\n",
    "                    width = float(data[3]) * image_width\n",
    "                    height = float(data[4]) * image_height\n",
    "                    bbox.append(midpt_to_corners([center_x,center_y,width,height]))\n",
    "        return bbox\n",
    "\n",
    "def plot_bbox(image,label):\n",
    "    \"\"\"This function shows the bounding box on the image\n",
    "\n",
    "    Args:\n",
    "        image(str or arraylike): \n",
    "            str : images folder\n",
    "            arraylike : image as an array\n",
    "        label(str or arraylike):\n",
    "            str : labels folder containing the .txt file as label in YOLO format\n",
    "            arraylike : bounding box of shape (1,4)\n",
    "    \"\"\"\n",
    "         \n",
    "    if (type(label)==str):\n",
    "        files = os.listdir(image)\n",
    "        images = [file for file in files if file.lower().endswith(('.png', '.jpg', '.jpeg'))]\n",
    "        random_image = random.choice(images)\n",
    "        random_image_path = os.path.join(image, random_image)\n",
    "        image = cv2.imread(random_image_path)\n",
    "        txt_file = os.path.splitext(random_image)[0] + '.txt'\n",
    "        txt_file_path = os.path.join(label, txt_file)\n",
    "        bbox = bbox_calculator(image, txt_file_path)\n",
    "    else:\n",
    "        if (type(image) == str) : \n",
    "            image = cv2.imread(image)\n",
    "        else : \n",
    "            image = np.asarray(image)\n",
    "        bbox = label\n",
    "    \n",
    "    bbox = np.asarray(bbox)\n",
    "    x1, y1, x2, y2 = bbox[0]\n",
    "    color = (0, 0, 255) \n",
    "    thickness = 2\n",
    "    cv2.rectangle(image, (x1, y1), (x2, y2), color, thickness)\n",
    "    plt.axis('off')\n",
    "    plt.imshow(image);           \n",
    "    return "
   ]
  }
 ],
 "metadata": {
  "kernelspec": {
   "display_name": "base",
   "language": "python",
   "name": "python3"
  },
  "language_info": {
   "codemirror_mode": {
    "name": "ipython",
    "version": 3
   },
   "file_extension": ".py",
   "mimetype": "text/x-python",
   "name": "python",
   "nbconvert_exporter": "python",
   "pygments_lexer": "ipython3",
   "version": "3.12.4"
  }
 },
 "nbformat": 4,
 "nbformat_minor": 2
}
