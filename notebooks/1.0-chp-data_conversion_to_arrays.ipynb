{
 "cells": [
  {
   "cell_type": "code",
   "execution_count": 1,
   "metadata": {},
   "outputs": [],
   "source": [
    "import os\n",
    "import cv2\n",
    "import numpy as np\n",
    "import pandas as pd"
   ]
  },
  {
   "cell_type": "code",
   "execution_count": 3,
   "metadata": {},
   "outputs": [],
   "source": [
    "image_folder = r\"E:\\DIL\\Fish_classification_ViT\\data\"\n",
    "label_folder = r\"E:\\DIL\\Fish_classification_ViT\\data\\labels\"\n",
    "\n",
    "X = []\n",
    "y = []"
   ]
  },
  {
   "cell_type": "code",
   "execution_count": 4,
   "metadata": {},
   "outputs": [
    {
     "name": "stdout",
     "output_type": "stream",
     "text": [
      "X_train shape: (2257, 224, 224, 3)\n",
      "Y_train shape: (2257, 4)\n"
     ]
    }
   ],
   "source": [
    "for image_file in sorted(os.listdir(image_folder)):\n",
    "    if image_file.endswith(('.jpg', '.png', '.jpeg')):\n",
    "        # Read the image\n",
    "        img_path = os.path.join(image_folder, image_file)\n",
    "        img = cv2.imread(img_path)\n",
    "        img_resized = cv2.resize(img, (224, 224))\n",
    "        img_normalized = img_resized / 255.0\n",
    "        \n",
    "        X.append(img_normalized)\n",
    "        # Construct the corresponding label file name\n",
    "        label_file = os.path.splitext(image_file)[0] + '.txt'\n",
    "        label_path = os.path.join(label_folder, label_file)\n",
    "        with open(label_path, 'r') as f:\n",
    "            label_data = f.readline().strip().split()\n",
    "            p1, p2, p3, p4 = map(lambda x: round(float(x), 2), label_data[1:])\n",
    "            y.append([p1, p2, p3, p4])\n",
    "\n",
    "\n",
    "# Convert lists to numpy arrays\n",
    "X_labelled = np.array(X)  \n",
    "y_labelled = np.array(y)\n",
    "\n",
    "# Output shapes\n",
    "print(f'X_train shape: {X_labelled.shape}')\n",
    "print(f'Y_train shape: {y_labelled.shape}')\n"
   ]
  },
  {
   "cell_type": "code",
   "execution_count": 5,
   "metadata": {},
   "outputs": [],
   "source": [
    "save_folder = r\"E:\\Code\\Zebra_Fish_Detection_And_Tracking\\data\\interim\"\n",
    "\n",
    "# Create the folder if it doesn't exist\n",
    "os.makedirs(save_folder, exist_ok=True)\n",
    "\n",
    "# Convert lists to numpy arrays\n",
    "X_train = np.array(X_labelled)\n",
    "Y_train = np.array(y_labelled)\n",
    "\n",
    "# Save the arrays as .npy files\n",
    "np.save(os.path.join(save_folder, \"X_labelled_data.npy\"), X_labelled)\n",
    "np.save(os.path.join(save_folder, \"y_labelled_data.npy\"), y_labelled)"
   ]
  }
 ],
 "metadata": {
  "kernelspec": {
   "display_name": "Python 3",
   "language": "python",
   "name": "python3"
  },
  "language_info": {
   "codemirror_mode": {
    "name": "ipython",
    "version": 3
   },
   "file_extension": ".py",
   "mimetype": "text/x-python",
   "name": "python",
   "nbconvert_exporter": "python",
   "pygments_lexer": "ipython3",
   "version": "3.11.9"
  }
 },
 "nbformat": 4,
 "nbformat_minor": 2
}
