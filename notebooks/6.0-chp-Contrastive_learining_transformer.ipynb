{
 "cells": [
  {
   "cell_type": "code",
   "execution_count": null,
   "metadata": {},
   "outputs": [],
   "source": [
    "import numpy as np\n",
    "import pandas as pd\n",
    "import torch\n",
    "from torch.utils.data import DataLoader, random_split\n",
    "import torch.nn as nn\n",
    "from torchtune.modules import RotaryPositionalEmbeddings\n",
    "import csv\n",
    "import os\n",
    "from loss_curve_visualization import plot_loss_curves\n",
    "import torch.nn.functional as F"
   ]
  },
  {
   "cell_type": "code",
   "execution_count": 28,
   "metadata": {},
   "outputs": [],
   "source": [
    "data = np.load(r\"D:\\Praharsha\\code\\CAMZ\\data\\interim\\boundingboxes_array.npy\", allow_pickle=True)\n",
    "rows_to_remove = [443, 474]\n",
    "data = np.delete(data, rows_to_remove, axis=0)"
   ]
  },
  {
   "cell_type": "code",
   "execution_count": 29,
   "metadata": {},
   "outputs": [
    {
     "data": {
      "text/plain": [
       "(586, 300, 2)"
      ]
     },
     "execution_count": 29,
     "metadata": {},
     "output_type": "execute_result"
    }
   ],
   "source": [
    "mask = np.array([np.any(video == None) for video in data])  # Identify rows with None\n",
    "data = data[~mask]\n",
    "data = data.astype(np.float32)\n",
    "data.shape"
   ]
  },
  {
   "cell_type": "code",
   "execution_count": null,
   "metadata": {},
   "outputs": [],
   "source": [
    "mean = data.mean(axis=(0, 1), keepdims=True)\n",
    "std = data.std(axis=(0, 1), keepdims=True)\n",
    "data = (data - mean) / std"
   ]
  },
  {
   "cell_type": "code",
   "execution_count": 31,
   "metadata": {},
   "outputs": [
    {
     "name": "stdout",
     "output_type": "stream",
     "text": [
      "   Name  Inactivity score  Time_bottom score  Time_top score  \\\n",
      "0  1L.1                 0                  1               1   \n",
      "1  1L.2                 0                  1               1   \n",
      "2  1L.3                 0                  1               1   \n",
      "3  1L.4                 0                  1               1   \n",
      "4  1L.5                 0                  0               1   \n",
      "\n",
      "   Large_angle score  Small_angle score  Final Score  Verdict  \n",
      "0                  1                  0         0.50        1  \n",
      "1                  1                  0         0.50        1  \n",
      "2                  1                  1         0.70        1  \n",
      "3                  0                  1         0.50        1  \n",
      "4                  1                  1         0.55        1  \n",
      "(586,)\n"
     ]
    }
   ],
   "source": [
    "labels_df = pd.read_csv(r\"D:\\Praharsha\\code\\CAMZ\\data\\interim\\verdict.csv\")  # Adjust delimiter if needed\n",
    "print(labels_df.head())\n",
    "\n",
    "verdict = labels_df['Verdict']\n",
    "verdicts = verdict[~mask]\n",
    "print(verdicts.shape)"
   ]
  },
  {
   "cell_type": "code",
   "execution_count": 32,
   "metadata": {},
   "outputs": [],
   "source": [
    "data = torch.tensor(data, dtype=torch.float32)\n",
    "\n",
    "# Calculate split sizes\n",
    "total_samples = data.shape[0]\n",
    "train_size = int(0.7 * total_samples)\n",
    "val_size = int(0.15 * total_samples)\n",
    "test_size = total_samples - train_size - val_size\n",
    "\n",
    "# Split datasets\n",
    "train_data, val_data, test_data = random_split(data, [train_size, val_size, test_size])\n",
    "\n",
    "# Create DataLoaders\n",
    "batch_size = 32\n",
    "train_loader = DataLoader(train_data, batch_size=batch_size, shuffle=True)\n",
    "val_loader = DataLoader(val_data, batch_size=batch_size, shuffle=False)\n",
    "test_loader = DataLoader(test_data, batch_size=batch_size, shuffle=False)"
   ]
  },
  {
   "cell_type": "code",
   "execution_count": null,
   "metadata": {},
   "outputs": [],
   "source": [
    "class TransformerAutoencoder(nn.Module):\n",
    "    def __init__(self, input_dim=2, seq_len=300, latent_dim=64, num_heads=4, ff_dim=512, num_layers=4):\n",
    "        super(TransformerAutoencoder, self).__init__()\n",
    "        self.seq_len = seq_len\n",
    "        self.input_dim = input_dim\n",
    "        self.latent_dim = latent_dim\n",
    "        self.num_heads = num_heads\n",
    "        self.head_dim = latent_dim // num_heads\n",
    "\n",
    "        # Input projection\n",
    "        self.input_proj = nn.Linear(input_dim, latent_dim)\n",
    "        self.pos_encoding = RotaryPositionalEmbeddings(dim=self.head_dim)\n",
    "\n",
    "        # Transformer Encoder\n",
    "        encoder_layer = nn.TransformerEncoderLayer(\n",
    "            d_model=latent_dim,\n",
    "            nhead=num_heads,\n",
    "            dim_feedforward=ff_dim,\n",
    "            batch_first=True\n",
    "        )\n",
    "        self.encoder = nn.TransformerEncoder(encoder_layer, num_layers=num_layers)\n",
    "        self.encoder_norm = nn.LayerNorm(latent_dim)\n",
    "        # Latent vector via pooling\n",
    "        self.latent_pool = nn.AdaptiveAvgPool1d(1)\n",
    "        \n",
    "        self.projection_head = nn.Sequential(\n",
    "        nn.Linear(latent_dim, latent_dim),\n",
    "        nn.ReLU(),\n",
    "        nn.Linear(latent_dim, latent_dim)\n",
    "        )\n",
    "\n",
    "\n",
    "    def apply_rope(self, x):\n",
    "        # x: (B, S, D)\n",
    "        B, S, D = x.shape\n",
    "        x = x.view(B, S, self.num_heads, self.head_dim)   # (B, S, N_H, H_D)\n",
    "        x = self.pos_encoding(x)                          # Apply RoPE\n",
    "        x = x.view(B, S, D)                               # Back to (B, S, D)\n",
    "        return x\n",
    "    \n",
    "    def add_noise(self, x, noise_std=0.01):\n",
    "        return x + noise_std * torch.randn_like(x)\n",
    "\n",
    "    def rotate(self, x, angle_range=(-15, 15)):\n",
    "        angle = torch.empty(1).uniform_(*angle_range).item()\n",
    "        rad = torch.deg2rad(torch.tensor(angle))\n",
    "        rotation_matrix = torch.tensor([\n",
    "            [torch.cos(rad), -torch.sin(rad)],\n",
    "            [torch.sin(rad),  torch.cos(rad)]\n",
    "        ], device=x.device)\n",
    "        return torch.matmul(x, rotation_matrix)\n",
    "    \n",
    "    def augment(self, x):\n",
    "        if torch.rand(1).item() < 0.5:\n",
    "            x = self.add_noise(x)\n",
    "        else:\n",
    "            x = self.rotate(x)\n",
    "        return x\n",
    "\n",
    "    def forward(self, x, apply_aug=True):\n",
    "        if apply_aug:\n",
    "            x = self.augment(x)  # Apply noise or rotation only if True\n",
    "\n",
    "        x = self.input_proj(x)  # (B, S, latent_dim)\n",
    "        x = self.apply_rope(x)\n",
    "        x = self.encoder_norm(self.encoder(x))\n",
    "        x_pooled = self.latent_pool(x.permute(0, 2, 1)).squeeze(-1)\n",
    "        z = self.projection_head(x_pooled)\n",
    "        z = nn.functional.normalize(z, dim=1)\n",
    "\n",
    "        return z\n"
   ]
  },
  {
   "cell_type": "code",
   "execution_count": 34,
   "metadata": {},
   "outputs": [],
   "source": [
    "\n",
    "class NTXentLoss(nn.Module):\n",
    "    def __init__(self, temperature=0.5):\n",
    "        super(NTXentLoss, self).__init__()\n",
    "        self.temperature = temperature\n",
    "        self.cosine_similarity = nn.CosineSimilarity(dim=-1)\n",
    "\n",
    "    def forward(self, z1, z2):\n",
    "        \"\"\"\n",
    "        z1, z2: Tensor of shape (B, D) — representations from two views\n",
    "        \"\"\"\n",
    "        B = z1.size(0)\n",
    "        z = torch.cat([z1, z2], dim=0)  # (2B, D)\n",
    "\n",
    "        # Normalize representations\n",
    "        z = F.normalize(z, dim=1)\n",
    "\n",
    "        # Cosine similarity matrix (2B x 2B)\n",
    "        sim = torch.matmul(z, z.T) / self.temperature\n",
    "\n",
    "        # Mask out self-similarities\n",
    "        mask = torch.eye(2 * B, dtype=torch.bool).to(z.device)\n",
    "        sim.masked_fill_(mask, -1e9)\n",
    "\n",
    "        # Create labels for positive pairs\n",
    "        targets = torch.cat([torch.arange(B, 2 * B), torch.arange(0, B)]).to(z.device)\n",
    "\n",
    "        # Compute cross-entropy loss\n",
    "        loss = F.cross_entropy(sim, targets)\n",
    "        return loss"
   ]
  },
  {
   "cell_type": "code",
   "execution_count": 35,
   "metadata": {},
   "outputs": [
    {
     "name": "stdout",
     "output_type": "stream",
     "text": [
      "torch.Size([32, 64]) torch.Size([32, 64])\n",
      "tensor(4.1418, grad_fn=<NllLossBackward0>)\n"
     ]
    }
   ],
   "source": [
    "x = torch.rand((32, 300, 2))\n",
    "model = TransformerAutoencoder()\n",
    "x1 = model(x)\n",
    "x2 = model(x)\n",
    "print(x1.shape, x2.shape)\n",
    "\n",
    "loss = NTXentLoss()\n",
    "print(loss(x1, x2))"
   ]
  },
  {
   "cell_type": "code",
   "execution_count": 36,
   "metadata": {},
   "outputs": [],
   "source": [
    "model = TransformerAutoencoder()\n",
    "optimizer = torch.optim.Adam(model.parameters(), lr=1e-3)\n",
    "criterion = NTXentLoss(temperature=0.1)\n",
    "\n",
    "history_path = r\"D:\\Praharsha\\code\\CAMZ\\models\\model_history\\5.0-Transformer\\transformer_history.csv\"\n",
    "save_model_checkpoint_path = r\"D:\\Praharsha\\code\\CAMZ\\models\\model_history\\5.0-Transformer\\transformer.pth.tar\"\n"
   ]
  },
  {
   "cell_type": "code",
   "execution_count": 37,
   "metadata": {},
   "outputs": [],
   "source": [
    "def Initialize_writer(file_path):\n",
    "    os.makedirs(os.path.dirname(file_path), exist_ok=True)\n",
    "    with open(file_path, mode='w', newline=\"\") as file:\n",
    "        writer = csv.writer(file)\n",
    "        writer.writerow(['epoch', 'loss', 'val_loss'])"
   ]
  },
  {
   "cell_type": "code",
   "execution_count": 38,
   "metadata": {},
   "outputs": [],
   "source": [
    "def validate(model, val_loader, loss_function, device='cpu'):\n",
    "    model.eval()\n",
    "    total_batch_loss = 0.0\n",
    "    with torch.no_grad():\n",
    "        for inputs in val_loader:\n",
    "            inputs = inputs.to(device)\n",
    "            outputs1 = model(inputs)\n",
    "            outputs2 = model(inputs)\n",
    "            loss_per_batch = loss_function(outputs1, outputs2)\n",
    "            total_batch_loss += loss_per_batch.item()\n",
    "        total_loss = total_batch_loss / len(val_loader)\n",
    "        print(f\"NXent Loss: {total_loss:.4f}\", end=\" \")\n",
    "    return total_loss\n",
    "\n",
    "def train(model, train_loader, val_loader, optimizer, \n",
    "                      loss_function, history_csv_path, \n",
    "                      save_model_checkpoint_path, num_epochs=100, \n",
    "                      patience=10, delta=0.001, device='cpu'):\n",
    "\n",
    "    Initialize_writer(history_csv_path)\n",
    "    \n",
    "    best_val_loss = float('inf')\n",
    "    early_stopping = 0\n",
    "\n",
    "    for epoch in range(num_epochs):\n",
    "        model.train()\n",
    "        total_loss = 0.0\n",
    "\n",
    "        for batch in train_loader:\n",
    "            batch = batch.to(device)\n",
    "            \n",
    "            z1 = model(batch)\n",
    "            z2 = model(batch)\n",
    "\n",
    "            loss = loss_function(z1, z2)\n",
    "            optimizer.zero_grad()\n",
    "            loss.backward()\n",
    "            optimizer.step()\n",
    "\n",
    "            total_loss += loss.item()\n",
    "\n",
    "        avg_train_loss = total_loss / len(train_loader)\n",
    "\n",
    "        print(f\"\\nEpoch [{epoch+1}/{num_epochs}], Train Contrastive Loss: {avg_train_loss:.4f}\", end=\" --- \")\n",
    "        val_loss = validate(model, val_loader, loss_function, device='cpu')\n",
    "\n",
    "        # Early stopping and checkpoint logic\n",
    "        if (best_val_loss - val_loss) > delta:\n",
    "            best_val_loss = val_loss\n",
    "            checkpoint = {'state_dict': model.state_dict(), 'optimizer': optimizer.state_dict()}\n",
    "            print(f\"\\n=========Saving Checkpoint======= at Epoch:[{epoch+1}/{num_epochs}]\")\n",
    "            torch.save(checkpoint, save_model_checkpoint_path)\n",
    "            early_stopping = 0\n",
    "        else:\n",
    "            early_stopping += 1\n",
    "\n",
    "        # Log to CSV\n",
    "        with open(history_csv_path, mode='a', newline=\"\") as file:\n",
    "            loss_writer = csv.writer(file)\n",
    "            loss_writer.writerow([epoch+1, avg_train_loss, val_loss])\n",
    "\n",
    "        if early_stopping >= patience:\n",
    "            print(f\"\\n Early stopping triggered at epoch {epoch+1}\")\n",
    "            break\n",
    "\n",
    "    print(f\"\\n Best Validation Loss: {best_val_loss:.4f}\")\n"
   ]
  },
  {
   "cell_type": "code",
   "execution_count": 39,
   "metadata": {},
   "outputs": [
    {
     "name": "stdout",
     "output_type": "stream",
     "text": [
      "\n",
      "Epoch [1/100], Train Contrastive Loss: 1.5047 --- NXent Loss: 0.8650 \n",
      "=========Saving Checkpoint======= at Epoch:[1/100]\n",
      "\n",
      "Epoch [2/100], Train Contrastive Loss: 0.7616 --- NXent Loss: 0.5528 \n",
      "=========Saving Checkpoint======= at Epoch:[2/100]\n",
      "\n",
      "Epoch [3/100], Train Contrastive Loss: 0.4888 --- NXent Loss: 0.3803 \n",
      "=========Saving Checkpoint======= at Epoch:[3/100]\n",
      "\n",
      "Epoch [4/100], Train Contrastive Loss: 0.4498 --- NXent Loss: 0.3684 \n",
      "=========Saving Checkpoint======= at Epoch:[4/100]\n",
      "\n",
      "Epoch [5/100], Train Contrastive Loss: 0.3001 --- NXent Loss: 0.3239 \n",
      "=========Saving Checkpoint======= at Epoch:[5/100]\n",
      "\n",
      "Epoch [6/100], Train Contrastive Loss: 0.3054 --- NXent Loss: 0.3688 \n",
      "Epoch [7/100], Train Contrastive Loss: 0.3545 --- NXent Loss: 0.4186 \n",
      "Epoch [8/100], Train Contrastive Loss: 0.2978 --- NXent Loss: 0.3699 \n",
      "Epoch [9/100], Train Contrastive Loss: 0.3148 --- NXent Loss: 0.2574 \n",
      "=========Saving Checkpoint======= at Epoch:[9/100]\n",
      "\n",
      "Epoch [10/100], Train Contrastive Loss: 0.2752 --- NXent Loss: 0.2150 \n",
      "=========Saving Checkpoint======= at Epoch:[10/100]\n",
      "\n",
      "Epoch [11/100], Train Contrastive Loss: 0.2189 --- NXent Loss: 0.2415 \n",
      "Epoch [12/100], Train Contrastive Loss: 0.1911 --- NXent Loss: 0.2328 \n",
      "Epoch [13/100], Train Contrastive Loss: 0.1794 --- NXent Loss: 0.2760 \n",
      "Epoch [14/100], Train Contrastive Loss: 0.2174 --- NXent Loss: 0.2925 \n",
      "Epoch [15/100], Train Contrastive Loss: 0.1702 --- NXent Loss: 0.1959 \n",
      "=========Saving Checkpoint======= at Epoch:[15/100]\n",
      "\n",
      "Epoch [16/100], Train Contrastive Loss: 0.2153 --- NXent Loss: 0.1745 \n",
      "=========Saving Checkpoint======= at Epoch:[16/100]\n",
      "\n",
      "Epoch [17/100], Train Contrastive Loss: 0.1704 --- NXent Loss: 0.2681 \n",
      "Epoch [18/100], Train Contrastive Loss: 0.2079 --- NXent Loss: 0.2775 \n",
      "Epoch [19/100], Train Contrastive Loss: 0.2241 --- NXent Loss: 0.3099 \n",
      "Epoch [20/100], Train Contrastive Loss: 0.2526 --- NXent Loss: 0.2414 \n",
      "Epoch [21/100], Train Contrastive Loss: 0.1829 --- NXent Loss: 0.2393 \n",
      "Epoch [22/100], Train Contrastive Loss: 0.2192 --- NXent Loss: 0.1666 \n",
      "=========Saving Checkpoint======= at Epoch:[22/100]\n",
      "\n",
      "Epoch [23/100], Train Contrastive Loss: 0.1723 --- NXent Loss: 0.1606 \n",
      "=========Saving Checkpoint======= at Epoch:[23/100]\n",
      "\n",
      "Epoch [24/100], Train Contrastive Loss: 0.1683 --- NXent Loss: 0.1960 \n",
      "Epoch [25/100], Train Contrastive Loss: 0.1469 --- NXent Loss: 0.2456 \n",
      "Epoch [26/100], Train Contrastive Loss: 0.1458 --- NXent Loss: 0.1478 \n",
      "=========Saving Checkpoint======= at Epoch:[26/100]\n",
      "\n",
      "Epoch [27/100], Train Contrastive Loss: 0.1482 --- NXent Loss: 0.2418 \n",
      "Epoch [28/100], Train Contrastive Loss: 0.1571 --- NXent Loss: 0.2572 \n",
      "Epoch [29/100], Train Contrastive Loss: 0.1317 --- NXent Loss: 0.2166 \n",
      "Epoch [30/100], Train Contrastive Loss: 0.1622 --- NXent Loss: 0.2628 \n",
      "Epoch [31/100], Train Contrastive Loss: 0.1494 --- NXent Loss: 0.1937 \n",
      "Epoch [32/100], Train Contrastive Loss: 0.1347 --- NXent Loss: 0.1863 \n",
      "Epoch [33/100], Train Contrastive Loss: 0.1396 --- NXent Loss: 0.1626 \n",
      "Epoch [34/100], Train Contrastive Loss: 0.1122 --- NXent Loss: 0.1518 \n",
      "Epoch [35/100], Train Contrastive Loss: 0.1203 --- NXent Loss: 0.1532 \n",
      "Epoch [36/100], Train Contrastive Loss: 0.1399 --- NXent Loss: 0.1303 \n",
      "=========Saving Checkpoint======= at Epoch:[36/100]\n",
      "\n",
      "Epoch [37/100], Train Contrastive Loss: 0.1690 --- NXent Loss: 0.2110 \n",
      "Epoch [38/100], Train Contrastive Loss: 0.1252 --- NXent Loss: 0.1434 \n",
      "Epoch [39/100], Train Contrastive Loss: 0.0893 --- NXent Loss: 0.1481 \n",
      "Epoch [40/100], Train Contrastive Loss: 0.1512 --- NXent Loss: 0.1514 \n",
      "Epoch [41/100], Train Contrastive Loss: 0.0950 --- NXent Loss: 0.1132 \n",
      "=========Saving Checkpoint======= at Epoch:[41/100]\n",
      "\n",
      "Epoch [42/100], Train Contrastive Loss: 0.1016 --- NXent Loss: 0.1170 \n",
      "Epoch [43/100], Train Contrastive Loss: 0.1276 --- NXent Loss: 0.1313 \n",
      "Epoch [44/100], Train Contrastive Loss: 0.1504 --- NXent Loss: 0.1887 \n",
      "Epoch [45/100], Train Contrastive Loss: 0.1544 --- NXent Loss: 0.1295 \n",
      "Epoch [46/100], Train Contrastive Loss: 0.1457 --- NXent Loss: 0.1543 \n",
      "Epoch [47/100], Train Contrastive Loss: 0.1582 --- NXent Loss: 0.2021 \n",
      "Epoch [48/100], Train Contrastive Loss: 0.1272 --- NXent Loss: 0.1485 \n",
      "Epoch [49/100], Train Contrastive Loss: 0.1204 --- NXent Loss: 0.1391 \n",
      "Epoch [50/100], Train Contrastive Loss: 0.0976 --- NXent Loss: 0.1249 \n",
      "Epoch [51/100], Train Contrastive Loss: 0.1112 --- NXent Loss: 0.1087 \n",
      "=========Saving Checkpoint======= at Epoch:[51/100]\n",
      "\n",
      "Epoch [52/100], Train Contrastive Loss: 0.0987 --- NXent Loss: 0.1632 \n",
      "Epoch [53/100], Train Contrastive Loss: 0.1393 --- NXent Loss: 0.1171 \n",
      "Epoch [54/100], Train Contrastive Loss: 0.0880 --- NXent Loss: 0.1392 \n",
      "Epoch [55/100], Train Contrastive Loss: 0.0905 --- NXent Loss: 0.1272 \n",
      "Epoch [56/100], Train Contrastive Loss: 0.1096 --- NXent Loss: 0.1280 \n",
      "Epoch [57/100], Train Contrastive Loss: 0.0934 --- NXent Loss: 0.1432 \n",
      "Epoch [58/100], Train Contrastive Loss: 0.1011 --- NXent Loss: 0.2529 \n",
      "Epoch [59/100], Train Contrastive Loss: 0.1107 --- NXent Loss: 0.2130 \n",
      "Epoch [60/100], Train Contrastive Loss: 0.1368 --- NXent Loss: 0.1642 \n",
      "Epoch [61/100], Train Contrastive Loss: 0.1016 --- NXent Loss: 0.1220 \n",
      " Early stopping triggered at epoch 61\n",
      "\n",
      " Best Validation Loss: 0.1087\n"
     ]
    }
   ],
   "source": [
    "train(model, train_loader, val_loader = val_loader, optimizer=optimizer, loss_function=criterion,\n",
    "      history_csv_path=history_path,\n",
    "      save_model_checkpoint_path=save_model_checkpoint_path, num_epochs=100)"
   ]
  },
  {
   "cell_type": "code",
   "execution_count": null,
   "metadata": {},
   "outputs": [
    {
     "name": "stdout",
     "output_type": "stream",
     "text": [
      "The best loss of 0.0879587809053751 achieved at Epoch: 54\n"
     ]
    },
    {
     "data": {
      "image/png": "[encoded data removed]",
      "text/plain": [
       "<Figure size 1000x600 with 1 Axes>"
      ]
     },
     "metadata": {},
     "output_type": "display_data"
    }
   ],
   "source": [
    "plot_loss_curves(r\"D:\\Praharsha\\code\\CAMZ\\models\\model_history\\5.0-Transformer\\transformer_history.csv\")"
   ]
  }
 ],
 "metadata": {
  "kernelspec": {
   "display_name": "py_gpu",
   "language": "python",
   "name": "python3"
  },
  "language_info": {
   "codemirror_mode": {
    "name": "ipython",
    "version": 3
   },
   "file_extension": ".py",
   "mimetype": "text/x-python",
   "name": "python",
   "nbconvert_exporter": "python",
   "pygments_lexer": "ipython3",
   "version": "3.10.16"
  }
 },
 "nbformat": 4,
 "nbformat_minor": 2
}
