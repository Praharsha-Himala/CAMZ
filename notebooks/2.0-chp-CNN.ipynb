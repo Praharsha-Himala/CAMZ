{
  "cells": [
    {
      "cell_type": "code",
      "execution_count": 1,
      "metadata": {},
      "outputs": [],
      "source": [
        "import torch\n",
        "import torch.nn as nn\n",
        "from torch.utils.data import Dataset, DataLoader, random_split\n",
        "from torchvision import transforms\n",
        "from bbox_plotter import yolo_to_corners\n",
        "from torchvision.ops import complete_box_iou_loss\n",
        "from PIL import Image\n",
        "import numpy as np\n",
        "import csv\n",
        "import os\n",
        "from bbox_plotter import visualize_prediction"
      ]
    },
    {
      "cell_type": "code",
      "execution_count": 2,
      "metadata": {},
      "outputs": [],
      "source": [
        "class ZebrafishDataset(Dataset):\n",
        "    def __init__(self, images_path, labels_path, transform=None):\n",
        "        self.images = np.load(images_path)\n",
        "        self.labels = np.load(labels_path)\n",
        "        self.transform = transform\n",
        "        \n",
        "    def __len__(self):\n",
        "        return len(self.labels)\n",
        "    \n",
        "    def __getitem__(self, idx):\n",
        "        image = self.images[idx]\n",
        "        label = self.labels[idx]\n",
        "\n",
        "        if self.transform:\n",
        "            image = self.transform(image)\n",
        "        \n",
        "        return torch.tensor(image, dtype=torch.float32), torch.tensor(label, dtype=torch.float32)\n",
        "    "
      ]
    },
    {
      "cell_type": "code",
      "execution_count": 3,
      "metadata": {},
      "outputs": [],
      "source": [
        "images_path = \"D:\\Praharsha\\Code\\CAMZ\\data\\interim\\X_labelled_data.npy\"\n",
        "labels_path = \"D:\\Praharsha\\Code\\CAMZ\\data\\interim\\y_labelled_data.npy\"\n",
        "\n",
        "transform = transforms.ToTensor()\n",
        "dataset = ZebrafishDataset(images_path, labels_path, transform=transform)\n",
        "\n",
        "train_size = int(0.8 * dataset.__len__())\n",
        "val_size = dataset.__len__() - train_size\n",
        "\n",
        "train_dataset, val_dataset = random_split(dataset, [train_size, val_size])"
      ]
    },
    {
      "cell_type": "code",
      "execution_count": 4,
      "metadata": {},
      "outputs": [],
      "source": [
        "train_loader = DataLoader(dataset = train_dataset, batch_size=32, shuffle=True)\n",
        "val_loader = DataLoader(dataset = val_dataset, batch_size=32, shuffle=True)"
      ]
    },
    {
      "cell_type": "code",
      "execution_count": 5,
      "metadata": {},
      "outputs": [],
      "source": [
        "class CNNModel(nn.Module):\n",
        "    def __init__(self):\n",
        "        super(CNNModel, self).__init__()\n",
        "        \n",
        "        self.conv1 = nn.Conv2d(in_channels=3, out_channels=32, kernel_size=3)\n",
        "        self.pool1 = nn.MaxPool2d(kernel_size=2, stride=2)\n",
        "        self.batch1 = nn.BatchNorm2d(32)\n",
        "        self.conv2 = nn.Conv2d(in_channels=32, out_channels=64, kernel_size=3)\n",
        "        self.pool2 = nn.MaxPool2d(kernel_size=2, stride=2)\n",
        "        self.batch2 = nn.BatchNorm2d(64)\n",
        "        \n",
        "        self.conv3 = nn.Conv2d(in_channels=64, out_channels=128, kernel_size=3)\n",
        "        self.pool3 = nn.MaxPool2d(kernel_size=2, stride=2)\n",
        "        self.global_avg_pool = nn.AdaptiveAvgPool2d((8, 8))  \n",
        "\n",
        "        self.flatten = nn.Flatten()\n",
        "        self.fc1 = nn.Linear(in_features= 128 * 8 * 8, out_features=128)\n",
        "        self.fc2 = nn.Linear(in_features=128, out_features=64)\n",
        "        self.fc3 = nn.Linear(in_features=64, out_features=4)\n",
        "        \n",
        "        \n",
        "    def forward(self, x):\n",
        "        x = self.pool1(torch.relu(self.conv1(x)))\n",
        "        x = self.batch1(x)\n",
        "        x = self.pool2(torch.relu(self.conv2(x)))\n",
        "        x = self.batch2(x)\n",
        "        x = self.global_avg_pool(self.pool3(torch.relu(self.conv3(x))))\n",
        "                \n",
        "        x = self.flatten(x)\n",
        "        \n",
        "        x = torch.relu(self.fc1(x))\n",
        "        x = torch.relu(self.fc2(x))\n",
        "        x = torch.sigmoid(self.fc3(x))\n",
        "        \n",
        "        return x\n",
        "        "
      ]
    },
    {
      "cell_type": "code",
      "execution_count": 6,
      "metadata": {},
      "outputs": [],
      "source": [
        "class CompleteBoxLoss(nn.Module):\n",
        "    def __init__(self):\n",
        "        super(CompleteBoxLoss, self).__init__()\n",
        "\n",
        "    def forward(self, pred_boxes, true_boxes, reduction):\n",
        "        ciou = complete_box_iou_loss(pred_boxes, true_boxes, reduction)\n",
        "        \n",
        "        return ciou\n"
      ]
    },
    {
      "cell_type": "code",
      "execution_count": 7,
      "metadata": {},
      "outputs": [],
      "source": [
        "model = CNNModel().to('cuda')\n",
        "ciou_loss_function = CompleteBoxLoss().to('cuda')\n",
        "optimizer = torch.optim.Adam(model.parameters(), lr=0.001)"
      ]
    },
    {
      "cell_type": "code",
      "execution_count": 8,
      "metadata": {},
      "outputs": [
        {
          "name": "stdout",
          "output_type": "stream",
          "text": [
            "CNNModel(\n",
            "  (conv1): Conv2d(3, 32, kernel_size=(3, 3), stride=(1, 1))\n",
            "  (pool1): MaxPool2d(kernel_size=2, stride=2, padding=0, dilation=1, ceil_mode=False)\n",
            "  (batch1): BatchNorm2d(32, eps=1e-05, momentum=0.1, affine=True, track_running_stats=True)\n",
            "  (conv2): Conv2d(32, 64, kernel_size=(3, 3), stride=(1, 1))\n",
            "  (pool2): MaxPool2d(kernel_size=2, stride=2, padding=0, dilation=1, ceil_mode=False)\n",
            "  (batch2): BatchNorm2d(64, eps=1e-05, momentum=0.1, affine=True, track_running_stats=True)\n",
            "  (conv3): Conv2d(64, 128, kernel_size=(3, 3), stride=(1, 1))\n",
            "  (pool3): MaxPool2d(kernel_size=2, stride=2, padding=0, dilation=1, ceil_mode=False)\n",
            "  (global_avg_pool): AdaptiveAvgPool2d(output_size=(8, 8))\n",
            "  (flatten): Flatten(start_dim=1, end_dim=-1)\n",
            "  (fc1): Linear(in_features=8192, out_features=128, bias=True)\n",
            "  (fc2): Linear(in_features=128, out_features=64, bias=True)\n",
            "  (fc3): Linear(in_features=64, out_features=4, bias=True)\n",
            ")\n"
          ]
        }
      ],
      "source": [
        "print(model)"
      ]
    },
    {
      "cell_type": "code",
      "execution_count": 9,
      "metadata": {},
      "outputs": [],
      "source": [
        "def Initialize_writer(file_path):\n",
        "    os.makedirs(os.path.dirname(file_path), exist_ok=True)\n",
        "    with open(file_path, mode='w', newline=\"\") as file:\n",
        "        writer = csv.writer(file)\n",
        "        writer.writerow(['epoch', 'loss', 'val_loss'])"
      ]
    },
    {
      "cell_type": "code",
      "execution_count": 10,
      "metadata": {},
      "outputs": [],
      "source": [
        "def validate(model, val_loader, loss_function):\n",
        "    model.eval()\n",
        "    ciou_total_batch_loss = 0.0\n",
        "    \n",
        "    \n",
        "    with torch.no_grad():\n",
        "        for inputs, labels in val_loader:\n",
        "            inputs = inputs.to('cuda')\n",
        "            labels = labels.to('cuda')\n",
        "            outputs = yolo_to_corners(model(inputs), image_width=720, image_height=720)\n",
        "            labels = yolo_to_corners(labels, image_width=720, image_height=720)\n",
        "            \n",
        "            ciou_loss_per_batch = loss_function(outputs, labels, 'mean')\n",
        "            \n",
        "            ciou_total_batch_loss += ciou_loss_per_batch.item()\n",
        "        \n",
        "        \n",
        "        ciou_total_loss = ciou_total_batch_loss / len(val_loader)\n",
        "        \n",
        "        \n",
        "        print(f\"CIoU: {ciou_total_loss:.4f}\", end=\" \")\n",
        "        return ciou_total_loss"
      ]
    },
    {
      "cell_type": "code",
      "execution_count": 11,
      "metadata": {},
      "outputs": [],
      "source": [
        "def train(model, train_loader, optimizer, \n",
        "          loss_function,\n",
        "          history_csv_path, \n",
        "          save_model_checkpoint_path, num_epochs=1, patience=5):\n",
        "    \n",
        "    Initialize_writer(history_csv_path)\n",
        "    \n",
        "    \n",
        "    best_val_ciou_loss = float('inf')\n",
        "    \n",
        "    model.train()\n",
        "        \n",
        "    for epoch in range(num_epochs):\n",
        "        ciou_total_batch_loss = 0.0\n",
        "         \n",
        "        for inputs, labels in train_loader:\n",
        "            inputs = inputs.to('cuda')\n",
        "            labels = labels.to('cuda')\n",
        "            \n",
        "            optimizer.zero_grad()\n",
        "            \n",
        "            norm_labels = yolo_to_corners(labels, image_width=720, image_height=720)\n",
        "            outputs = yolo_to_corners(model(inputs), image_width=720, image_height=720)\n",
        "                     \n",
        "            \n",
        "            ciou_loss_per_batch = loss_function(outputs, norm_labels, 'mean')\n",
        "            \n",
        "            ciou_loss_per_batch.backward()\n",
        "            \n",
        "            optimizer.step()\n",
        "            \n",
        "            ciou_total_batch_loss += ciou_loss_per_batch.item()\n",
        "            \n",
        "        ciou_loss_per_epoch = ciou_total_batch_loss / len(train_loader)\n",
        "        \n",
        "        print(end='\\n')\n",
        "        print(f\"Epoch [{epoch+1}/{num_epochs}], CIoU: {ciou_loss_per_epoch:.4f}\", end=\" --- \")\n",
        "        print(f\"Validation for Epoch [{epoch+1}/{num_epochs}]\", end=\", \")\n",
        "        val_ciou_loss = validate(model, val_loader, loss_function)\n",
        "        \n",
        "        \n",
        "        if val_ciou_loss < best_val_ciou_loss:\n",
        "            best_val_ciou_loss = val_ciou_loss\n",
        "            checkpoint = {'state_dict': model.state_dict(), 'optimizer': optimizer.state_dict()}\n",
        "            print(\"\\n\")\n",
        "            print(f\"=========Saving Checkpoint======= at Epoch:[{epoch+1}/{num_epochs}]\", end=\"\\n\")\n",
        "            torch.save(checkpoint, save_model_checkpoint_path)\n",
        "            early_stopping = 0\n",
        "        \n",
        "        else:\n",
        "            early_stopping+=1 \n",
        "            \n",
        "\n",
        "        \n",
        "        with open(history_csv_path, mode='a', newline=\"\") as file:\n",
        "            loss_writer = csv.writer(file)\n",
        "            loss_writer.writerow([epoch+1, ciou_loss_per_epoch, val_ciou_loss])\n",
        "        \n",
        "        # if early_stopping >= patience:\n",
        "        #     print(f\"Early stopping occured at {epoch+1}\")\n",
        "        #     break\n",
        "             \n",
        "    print(f\"The best Validation Loss is: {best_val_ciou_loss}\")\n",
        "                "
      ]
    },
    {
      "cell_type": "code",
      "execution_count": 12,
      "metadata": {},
      "outputs": [],
      "source": [
        "history_csv_file = \"D:\\Praharsha\\code\\CAMZ\\models\\model_history\\CNN_loss_logger.csv\"\n",
        "checkpoints_file = 'D:\\Praharsha\\code\\CAMZ\\models\\model_history\\CNN_checkpoint.pth.tar'"
      ]
    },
    {
      "cell_type": "code",
      "execution_count": 13,
      "metadata": {},
      "outputs": [
        {
          "name": "stderr",
          "output_type": "stream",
          "text": [
            "C:\\Users\\USER\\AppData\\Local\\Temp\\ipykernel_25812\\2586282732.py:17: UserWarning: To copy construct from a tensor, it is recommended to use sourceTensor.clone().detach() or sourceTensor.clone().detach().requires_grad_(True), rather than torch.tensor(sourceTensor).\n",
            "  return torch.tensor(image, dtype=torch.float32), torch.tensor(label, dtype=torch.float32)\n"
          ]
        },
        {
          "name": "stdout",
          "output_type": "stream",
          "text": [
            "\n",
            "Epoch [1/100], CIoU: 0.9343 --- Validation for Epoch [1/100], CIoU: 1.1508 \n",
            "\n",
            "=========Saving Checkpoint======= at Epoch:[1/100]\n",
            "\n",
            "Epoch [2/100], CIoU: 0.7521 --- Validation for Epoch [2/100], CIoU: 0.6887 \n",
            "\n",
            "=========Saving Checkpoint======= at Epoch:[2/100]\n",
            "\n",
            "Epoch [3/100], CIoU: 0.5553 --- Validation for Epoch [3/100], CIoU: 0.5301 \n",
            "\n",
            "=========Saving Checkpoint======= at Epoch:[3/100]\n",
            "\n",
            "Epoch [4/100], CIoU: 0.4841 --- Validation for Epoch [4/100], CIoU: 0.5296 \n",
            "\n",
            "=========Saving Checkpoint======= at Epoch:[4/100]\n",
            "\n",
            "Epoch [5/100], CIoU: 0.4678 --- Validation for Epoch [5/100], CIoU: 0.4660 \n",
            "\n",
            "=========Saving Checkpoint======= at Epoch:[5/100]\n",
            "\n",
            "Epoch [6/100], CIoU: 0.4315 --- Validation for Epoch [6/100], CIoU: 0.4363 \n",
            "\n",
            "=========Saving Checkpoint======= at Epoch:[6/100]\n",
            "\n",
            "Epoch [7/100], CIoU: 0.4074 --- Validation for Epoch [7/100], CIoU: 0.4507 \n",
            "Epoch [8/100], CIoU: 0.4196 --- Validation for Epoch [8/100], CIoU: 0.3993 \n",
            "\n",
            "=========Saving Checkpoint======= at Epoch:[8/100]\n",
            "\n",
            "Epoch [9/100], CIoU: 0.3812 --- Validation for Epoch [9/100], CIoU: 0.3991 \n",
            "\n",
            "=========Saving Checkpoint======= at Epoch:[9/100]\n",
            "\n",
            "Epoch [10/100], CIoU: 0.3540 --- Validation for Epoch [10/100], CIoU: 0.3894 \n",
            "\n",
            "=========Saving Checkpoint======= at Epoch:[10/100]\n",
            "\n",
            "Epoch [11/100], CIoU: 0.3669 --- Validation for Epoch [11/100], CIoU: 0.4044 \n",
            "Epoch [12/100], CIoU: 0.3534 --- Validation for Epoch [12/100], CIoU: 0.3762 \n",
            "\n",
            "=========Saving Checkpoint======= at Epoch:[12/100]\n",
            "\n",
            "Epoch [13/100], CIoU: 0.3413 --- Validation for Epoch [13/100], CIoU: 0.3974 \n",
            "Epoch [14/100], CIoU: 0.3294 --- Validation for Epoch [14/100], CIoU: 0.3543 \n",
            "\n",
            "=========Saving Checkpoint======= at Epoch:[14/100]\n",
            "\n",
            "Epoch [15/100], CIoU: 0.3275 --- Validation for Epoch [15/100], CIoU: 0.3235 \n",
            "\n",
            "=========Saving Checkpoint======= at Epoch:[15/100]\n",
            "\n",
            "Epoch [16/100], CIoU: 0.3178 --- Validation for Epoch [16/100], CIoU: 0.3321 \n",
            "Epoch [17/100], CIoU: 0.3088 --- Validation for Epoch [17/100], CIoU: 0.3608 \n",
            "Epoch [18/100], CIoU: 0.3008 --- Validation for Epoch [18/100], CIoU: 0.3221 \n",
            "\n",
            "=========Saving Checkpoint======= at Epoch:[18/100]\n",
            "\n",
            "Epoch [19/100], CIoU: 0.3008 --- Validation for Epoch [19/100], CIoU: 0.3105 \n",
            "\n",
            "=========Saving Checkpoint======= at Epoch:[19/100]\n",
            "\n",
            "Epoch [20/100], CIoU: 0.2918 --- Validation for Epoch [20/100], CIoU: 0.3179 \n",
            "Epoch [21/100], CIoU: 0.2926 --- Validation for Epoch [21/100], CIoU: 0.3431 \n",
            "Epoch [22/100], CIoU: 0.3018 --- Validation for Epoch [22/100], CIoU: 0.3668 \n",
            "Epoch [23/100], CIoU: 0.3070 --- Validation for Epoch [23/100], CIoU: 0.3578 \n",
            "Epoch [24/100], CIoU: 0.2854 --- Validation for Epoch [24/100], CIoU: 0.3517 \n",
            "Epoch [25/100], CIoU: 0.2719 --- Validation for Epoch [25/100], CIoU: 0.3102 \n",
            "\n",
            "=========Saving Checkpoint======= at Epoch:[25/100]\n",
            "\n",
            "Epoch [26/100], CIoU: 0.2842 --- Validation for Epoch [26/100], CIoU: 0.3181 \n",
            "Epoch [27/100], CIoU: 0.2686 --- Validation for Epoch [27/100], CIoU: 0.3096 \n",
            "\n",
            "=========Saving Checkpoint======= at Epoch:[27/100]\n",
            "\n",
            "Epoch [28/100], CIoU: 0.2653 --- Validation for Epoch [28/100], CIoU: 0.2816 \n",
            "\n",
            "=========Saving Checkpoint======= at Epoch:[28/100]\n",
            "\n",
            "Epoch [29/100], CIoU: 0.2581 --- Validation for Epoch [29/100], CIoU: 0.2950 \n",
            "Epoch [30/100], CIoU: 0.2628 --- Validation for Epoch [30/100], CIoU: 0.3158 \n",
            "Epoch [31/100], CIoU: 0.2609 --- Validation for Epoch [31/100], CIoU: 0.2997 \n",
            "Epoch [32/100], CIoU: 0.2480 --- Validation for Epoch [32/100], CIoU: 0.3093 \n",
            "Epoch [33/100], CIoU: 0.2447 --- Validation for Epoch [33/100], CIoU: 0.2882 \n",
            "Epoch [34/100], CIoU: 0.2535 --- Validation for Epoch [34/100], CIoU: 0.2986 \n",
            "Epoch [35/100], CIoU: 0.2485 --- Validation for Epoch [35/100], CIoU: 0.3033 \n",
            "Epoch [36/100], CIoU: 0.2442 --- Validation for Epoch [36/100], CIoU: 0.2900 \n",
            "Epoch [37/100], CIoU: 0.2403 --- Validation for Epoch [37/100], CIoU: 0.2799 \n",
            "\n",
            "=========Saving Checkpoint======= at Epoch:[37/100]\n",
            "\n",
            "Epoch [38/100], CIoU: 0.2393 --- Validation for Epoch [38/100], CIoU: 0.2835 \n",
            "Epoch [39/100], CIoU: 0.2295 --- Validation for Epoch [39/100], CIoU: 0.2729 \n",
            "\n",
            "=========Saving Checkpoint======= at Epoch:[39/100]\n",
            "\n",
            "Epoch [40/100], CIoU: 0.2381 --- Validation for Epoch [40/100], CIoU: 0.2865 \n",
            "Epoch [41/100], CIoU: 0.2389 --- Validation for Epoch [41/100], CIoU: 0.2948 \n",
            "Epoch [42/100], CIoU: 0.2346 --- Validation for Epoch [42/100], CIoU: 0.3599 \n",
            "Epoch [43/100], CIoU: 0.2415 --- Validation for Epoch [43/100], CIoU: 0.2951 \n",
            "Epoch [44/100], CIoU: 0.2221 --- Validation for Epoch [44/100], CIoU: 0.2823 \n",
            "Epoch [45/100], CIoU: 0.2218 --- Validation for Epoch [45/100], CIoU: 0.2819 \n",
            "Epoch [46/100], CIoU: 0.2303 --- Validation for Epoch [46/100], CIoU: 0.2737 \n",
            "Epoch [47/100], CIoU: 0.2075 --- Validation for Epoch [47/100], CIoU: 0.2662 \n",
            "\n",
            "=========Saving Checkpoint======= at Epoch:[47/100]\n",
            "\n",
            "Epoch [48/100], CIoU: 0.2058 --- Validation for Epoch [48/100], CIoU: 0.2773 \n",
            "Epoch [49/100], CIoU: 0.2103 --- Validation for Epoch [49/100], CIoU: 0.2748 \n",
            "Epoch [50/100], CIoU: 0.2209 --- Validation for Epoch [50/100], CIoU: 0.2815 \n",
            "Epoch [51/100], CIoU: 0.2116 --- Validation for Epoch [51/100], CIoU: 0.2726 \n",
            "Epoch [52/100], CIoU: 0.2085 --- Validation for Epoch [52/100], CIoU: 0.2713 \n",
            "Epoch [53/100], CIoU: 0.2120 --- Validation for Epoch [53/100], CIoU: 0.2783 \n",
            "Epoch [54/100], CIoU: 0.2016 --- Validation for Epoch [54/100], CIoU: 0.3211 \n",
            "Epoch [55/100], CIoU: 0.2008 --- Validation for Epoch [55/100], CIoU: 0.2591 \n",
            "\n",
            "=========Saving Checkpoint======= at Epoch:[55/100]\n",
            "\n",
            "Epoch [56/100], CIoU: 0.2074 --- Validation for Epoch [56/100], CIoU: 0.2876 \n",
            "Epoch [57/100], CIoU: 0.2130 --- Validation for Epoch [57/100], CIoU: 0.2700 \n",
            "Epoch [58/100], CIoU: 0.1997 --- Validation for Epoch [58/100], CIoU: 0.2729 \n",
            "Epoch [59/100], CIoU: 0.2002 --- Validation for Epoch [59/100], CIoU: 0.2830 \n",
            "Epoch [60/100], CIoU: 0.1962 --- Validation for Epoch [60/100], CIoU: 0.2569 \n",
            "\n",
            "=========Saving Checkpoint======= at Epoch:[60/100]\n",
            "\n",
            "Epoch [61/100], CIoU: 0.1846 --- Validation for Epoch [61/100], CIoU: 0.2808 \n",
            "Epoch [62/100], CIoU: 0.1874 --- Validation for Epoch [62/100], CIoU: 0.2652 \n",
            "Epoch [63/100], CIoU: 0.2013 --- Validation for Epoch [63/100], CIoU: 0.2712 \n",
            "Epoch [64/100], CIoU: 0.1829 --- Validation for Epoch [64/100], CIoU: 0.2623 \n",
            "Epoch [65/100], CIoU: 0.1792 --- Validation for Epoch [65/100], CIoU: 0.2720 \n",
            "Epoch [66/100], CIoU: 0.1830 --- Validation for Epoch [66/100], CIoU: 0.2658 \n",
            "Epoch [67/100], CIoU: 0.1765 --- Validation for Epoch [67/100], CIoU: 0.2800 \n",
            "Epoch [68/100], CIoU: 0.2052 --- Validation for Epoch [68/100], CIoU: 0.2692 \n",
            "Epoch [69/100], CIoU: 0.1862 --- Validation for Epoch [69/100], CIoU: 0.2605 \n",
            "Epoch [70/100], CIoU: 0.1788 --- Validation for Epoch [70/100], CIoU: 0.2739 \n",
            "Epoch [71/100], CIoU: 0.1806 --- Validation for Epoch [71/100], CIoU: 0.2653 \n",
            "Epoch [72/100], CIoU: 0.1989 --- Validation for Epoch [72/100], CIoU: 0.2858 \n",
            "Epoch [73/100], CIoU: 0.1814 --- Validation for Epoch [73/100], CIoU: 0.2708 \n",
            "Epoch [74/100], CIoU: 0.1766 --- Validation for Epoch [74/100], CIoU: 0.2731 \n",
            "Epoch [75/100], CIoU: 0.1812 --- Validation for Epoch [75/100], CIoU: 0.2688 \n",
            "Epoch [76/100], CIoU: 0.1849 --- Validation for Epoch [76/100], CIoU: 0.2517 \n",
            "\n",
            "=========Saving Checkpoint======= at Epoch:[76/100]\n",
            "\n",
            "Epoch [77/100], CIoU: 0.1774 --- Validation for Epoch [77/100], CIoU: 0.2784 \n",
            "Epoch [78/100], CIoU: 0.1807 --- Validation for Epoch [78/100], CIoU: 0.2712 \n",
            "Epoch [79/100], CIoU: 0.1825 --- Validation for Epoch [79/100], CIoU: 0.2817 \n",
            "Epoch [80/100], CIoU: 0.1789 --- Validation for Epoch [80/100], CIoU: 0.2970 \n",
            "Epoch [81/100], CIoU: 0.2052 --- Validation for Epoch [81/100], CIoU: 0.2919 \n",
            "Epoch [82/100], CIoU: 0.1899 --- Validation for Epoch [82/100], CIoU: 0.3030 \n",
            "Epoch [83/100], CIoU: 0.1808 --- Validation for Epoch [83/100], CIoU: 0.2710 \n",
            "Epoch [84/100], CIoU: 0.1693 --- Validation for Epoch [84/100], CIoU: 0.2830 \n",
            "Epoch [85/100], CIoU: 0.1630 --- Validation for Epoch [85/100], CIoU: 0.2815 \n",
            "Epoch [86/100], CIoU: 0.1639 --- Validation for Epoch [86/100], CIoU: 0.2784 \n",
            "Epoch [87/100], CIoU: 0.1645 --- Validation for Epoch [87/100], CIoU: 0.2765 \n",
            "Epoch [88/100], CIoU: 0.1747 --- Validation for Epoch [88/100], CIoU: 0.2660 \n",
            "Epoch [89/100], CIoU: 0.1717 --- Validation for Epoch [89/100], CIoU: 0.2766 \n",
            "Epoch [90/100], CIoU: 0.1710 --- Validation for Epoch [90/100], CIoU: 0.2576 \n",
            "Epoch [91/100], CIoU: 0.1601 --- Validation for Epoch [91/100], CIoU: 0.2541 \n",
            "Epoch [92/100], CIoU: 0.1765 --- Validation for Epoch [92/100], CIoU: 0.2659 \n",
            "Epoch [93/100], CIoU: 0.1610 --- Validation for Epoch [93/100], CIoU: 0.2548 \n",
            "Epoch [94/100], CIoU: 0.1482 --- Validation for Epoch [94/100], CIoU: 0.2753 \n",
            "Epoch [95/100], CIoU: 0.1648 --- Validation for Epoch [95/100], CIoU: 0.2645 \n",
            "Epoch [96/100], CIoU: 0.1521 --- Validation for Epoch [96/100], CIoU: 0.2610 \n",
            "Epoch [97/100], CIoU: 0.1669 --- Validation for Epoch [97/100], CIoU: 0.2600 \n",
            "Epoch [98/100], CIoU: 0.1661 --- Validation for Epoch [98/100], CIoU: 0.2639 \n",
            "Epoch [99/100], CIoU: 0.1475 --- Validation for Epoch [99/100], CIoU: 0.2671 \n",
            "Epoch [100/100], CIoU: 0.1639 --- Validation for Epoch [100/100], CIoU: 0.2757 The best Validation Loss is: 0.25167810122172035\n"
          ]
        }
      ],
      "source": [
        "train(model, train_loader, optimizer, ciou_loss_function,history_csv_path=history_csv_file,\n",
        "      save_model_checkpoint_path=checkpoints_file, num_epochs=100)"
      ]
    },
    {
      "cell_type": "code",
      "execution_count": 14,
      "metadata": {},
      "outputs": [
        {
          "name": "stdout",
          "output_type": "stream",
          "text": [
            "The best loss of 0.1475466712002168 achieved at Epoch: 99\n"
          ]
        },
        {
          "data": {
            "image/png": "[encoded data removed]",
            "text/plain": [
              "<Figure size 1000x600 with 1 Axes>"
            ]
          },
          "metadata": {},
          "output_type": "display_data"
        }
      ],
      "source": [
        "from loss_curve_visualization import plot_loss_curves\n",
        "plot_loss_curves(\"D:\\Praharsha\\code\\CAMZ\\models\\model_history\\CNN_loss_logger.csv\")"
      ]
    },
    {
      "cell_type": "code",
      "execution_count": 19,
      "metadata": {},
      "outputs": [
        {
          "name": "stdout",
          "output_type": "stream",
          "text": [
            "loading checkpoint...\n"
          ]
        },
        {
          "name": "stderr",
          "output_type": "stream",
          "text": [
            "C:\\Users\\USER\\AppData\\Local\\Temp\\ipykernel_20596\\2110258423.py:3: FutureWarning: You are using `torch.load` with `weights_only=False` (the current default value), which uses the default pickle module implicitly. It is possible to construct malicious pickle data which will execute arbitrary code during unpickling (See https://github.com/pytorch/pytorch/blob/main/SECURITY.md#untrusted-models for more details). In a future release, the default value for `weights_only` will be flipped to `True`. This limits the functions that could be executed during unpickling. Arbitrary objects will no longer be allowed to be loaded via this mode unless they are explicitly allowlisted by the user via `torch.serialization.add_safe_globals`. We recommend you start setting `weights_only=True` for any use case where you don't have full control of the loaded file. Please open an issue on GitHub for any issues related to this experimental feature.\n",
            "  checkpoint = torch.load(checkpoint)\n"
          ]
        }
      ],
      "source": [
        "def load_checkpoint(checkpoint, architecture, optimizer):\n",
        "    print(\"loading checkpoint...\")\n",
        "    checkpoint = torch.load(checkpoint)\n",
        "    \n",
        "    model = architecture()\n",
        "    \n",
        "    model.load_state_dict(checkpoint['state_dict'])\n",
        "    optimizer.load_state_dict(checkpoint['optimizer'])\n",
        "\n",
        "    return model.eval()\n",
        "model = load_checkpoint(\"D:\\Praharsha\\code\\CAMZ\\models\\model_history\\CNN_checkpoint.pth.tar\", CNNModel, optimizer)"
      ]
    },
    {
      "cell_type": "code",
      "execution_count": 125,
      "metadata": {},
      "outputs": [
        {
          "ename": "AttributeError",
          "evalue": "'NoneType' object has no attribute 'copy'",
          "output_type": "error",
          "traceback": [
            "\u001b[1;31m---------------------------------------------------------------------------\u001b[0m",
            "\u001b[1;31mAttributeError\u001b[0m                            Traceback (most recent call last)",
            "Cell \u001b[1;32mIn[125], line 5\u001b[0m\n\u001b[0;32m      2\u001b[0m image_path2 \u001b[38;5;241m=\u001b[39m \u001b[38;5;124mr\u001b[39m\u001b[38;5;124m\"\u001b[39m\u001b[38;5;124mE:\u001b[39m\u001b[38;5;124m\\\u001b[39m\u001b[38;5;124mDIL\u001b[39m\u001b[38;5;124m\\\u001b[39m\u001b[38;5;124mFish_classification_ViT\u001b[39m\u001b[38;5;124m\\\u001b[39m\u001b[38;5;124mdata\u001b[39m\u001b[38;5;124m\\\u001b[39m\u001b[38;5;124m1Lcrop284.jpg.jpg\u001b[39m\u001b[38;5;124m\"\u001b[39m\n\u001b[0;32m      3\u001b[0m image_path3 \u001b[38;5;241m=\u001b[39m \u001b[38;5;124mr\u001b[39m\u001b[38;5;124m\"\u001b[39m\u001b[38;5;124mE:\u001b[39m\u001b[38;5;124m\\\u001b[39m\u001b[38;5;124mDIL\u001b[39m\u001b[38;5;124m\\\u001b[39m\u001b[38;5;124mFish_classification_ViT\u001b[39m\u001b[38;5;124m\\\u001b[39m\u001b[38;5;124mdata\u001b[39m\u001b[38;5;124m\\\u001b[39m\u001b[38;5;124m1Lcrop313.jpg.jpg\u001b[39m\u001b[38;5;124m\"\u001b[39m\n\u001b[1;32m----> 5\u001b[0m \u001b[43mvisualize_prediction\u001b[49m\u001b[43m(\u001b[49m\u001b[43mimage_path1\u001b[49m\u001b[43m,\u001b[49m\u001b[43m \u001b[49m\u001b[43mlabels_path\u001b[49m\u001b[38;5;241;43m=\u001b[39;49m\u001b[38;5;124;43mr\u001b[39;49m\u001b[38;5;124;43m\"\u001b[39;49m\u001b[38;5;124;43mE:\u001b[39;49m\u001b[38;5;124;43m\\\u001b[39;49m\u001b[38;5;124;43mDIL\u001b[39;49m\u001b[38;5;124;43m\\\u001b[39;49m\u001b[38;5;124;43mFish_classification_ViT\u001b[39;49m\u001b[38;5;124;43m\\\u001b[39;49m\u001b[38;5;124;43mdata\u001b[39;49m\u001b[38;5;124;43m\\\u001b[39;49m\u001b[38;5;124;43mlabels\u001b[39;49m\u001b[38;5;124;43m\"\u001b[39;49m\u001b[43m,\u001b[49m\n\u001b[0;32m      6\u001b[0m \u001b[43m                     \u001b[49m\u001b[43mmodel\u001b[49m\u001b[38;5;241;43m=\u001b[39;49m\u001b[43mmodel\u001b[49m\u001b[43m)\u001b[49m\n",
            "File \u001b[1;32md:\\Praharsha\\code\\CAMZ\\notebooks\\bbox_plotter.py:113\u001b[0m, in \u001b[0;36mvisualize_prediction\u001b[1;34m(image_path, labels_path, model)\u001b[0m\n\u001b[0;32m    111\u001b[0m \u001b[38;5;28;01mdef\u001b[39;00m \u001b[38;5;21mvisualize_prediction\u001b[39m(image_path, labels_path, model):\n\u001b[0;32m    112\u001b[0m     image \u001b[38;5;241m=\u001b[39m cv2\u001b[38;5;241m.\u001b[39mimread(image_path)\n\u001b[1;32m--> 113\u001b[0m     orig_image \u001b[38;5;241m=\u001b[39m \u001b[43mimage\u001b[49m\u001b[38;5;241;43m.\u001b[39;49m\u001b[43mcopy\u001b[49m()\n\u001b[0;32m    114\u001b[0m     height, width \u001b[38;5;241m=\u001b[39m image\u001b[38;5;241m.\u001b[39mshape[:\u001b[38;5;241m2\u001b[39m]\n\u001b[0;32m    115\u001b[0m     resized_image \u001b[38;5;241m=\u001b[39m cv2\u001b[38;5;241m.\u001b[39mresize(image, (\u001b[38;5;241m224\u001b[39m, \u001b[38;5;241m224\u001b[39m))\n",
            "\u001b[1;31mAttributeError\u001b[0m: 'NoneType' object has no attribute 'copy'"
          ]
        }
      ],
      "source": [
        "image_path1 = r\"E:\\DIL\\Fish_classification_ViT\\data\\1Lcrop989.jpg.jpg\"\n",
        "image_path2 = r\"E:\\DIL\\Fish_classification_ViT\\data\\1Lcrop284.jpg.jpg\"\n",
        "image_path3 = r\"E:\\DIL\\Fish_classification_ViT\\data\\1Lcrop313.jpg.jpg\"\n",
        "\n",
        "visualize_prediction(image_path1, labels_path=r\"E:\\DIL\\Fish_classification_ViT\\data\\labels\",\n",
        "                     model=model)\n",
        "    "
      ]
    },
    {
      "cell_type": "code",
      "execution_count": 126,
      "metadata": {},
      "outputs": [
        {
          "ename": "AttributeError",
          "evalue": "'NoneType' object has no attribute 'copy'",
          "output_type": "error",
          "traceback": [
            "\u001b[1;31m---------------------------------------------------------------------------\u001b[0m",
            "\u001b[1;31mAttributeError\u001b[0m                            Traceback (most recent call last)",
            "Cell \u001b[1;32mIn[126], line 1\u001b[0m\n\u001b[1;32m----> 1\u001b[0m \u001b[43mvisualize_prediction\u001b[49m\u001b[43m(\u001b[49m\u001b[43mimage_path2\u001b[49m\u001b[43m,\u001b[49m\u001b[43m \u001b[49m\u001b[43mlabels_path\u001b[49m\u001b[38;5;241;43m=\u001b[39;49m\u001b[38;5;124;43mr\u001b[39;49m\u001b[38;5;124;43m\"\u001b[39;49m\u001b[38;5;124;43mE:\u001b[39;49m\u001b[38;5;124;43m\\\u001b[39;49m\u001b[38;5;124;43mDIL\u001b[39;49m\u001b[38;5;124;43m\\\u001b[39;49m\u001b[38;5;124;43mFish_classification_ViT\u001b[39;49m\u001b[38;5;124;43m\\\u001b[39;49m\u001b[38;5;124;43mdata\u001b[39;49m\u001b[38;5;124;43m\\\u001b[39;49m\u001b[38;5;124;43mlabels\u001b[39;49m\u001b[38;5;124;43m\"\u001b[39;49m\u001b[43m,\u001b[49m\n\u001b[0;32m      2\u001b[0m \u001b[43m                     \u001b[49m\u001b[43mmodel\u001b[49m\u001b[38;5;241;43m=\u001b[39;49m\u001b[43mmodel\u001b[49m\u001b[43m)\u001b[49m\n",
            "File \u001b[1;32md:\\Praharsha\\code\\CAMZ\\notebooks\\bbox_plotter.py:113\u001b[0m, in \u001b[0;36mvisualize_prediction\u001b[1;34m(image_path, labels_path, model)\u001b[0m\n\u001b[0;32m    111\u001b[0m \u001b[38;5;28;01mdef\u001b[39;00m \u001b[38;5;21mvisualize_prediction\u001b[39m(image_path, labels_path, model):\n\u001b[0;32m    112\u001b[0m     image \u001b[38;5;241m=\u001b[39m cv2\u001b[38;5;241m.\u001b[39mimread(image_path)\n\u001b[1;32m--> 113\u001b[0m     orig_image \u001b[38;5;241m=\u001b[39m \u001b[43mimage\u001b[49m\u001b[38;5;241;43m.\u001b[39;49m\u001b[43mcopy\u001b[49m()\n\u001b[0;32m    114\u001b[0m     height, width \u001b[38;5;241m=\u001b[39m image\u001b[38;5;241m.\u001b[39mshape[:\u001b[38;5;241m2\u001b[39m]\n\u001b[0;32m    115\u001b[0m     resized_image \u001b[38;5;241m=\u001b[39m cv2\u001b[38;5;241m.\u001b[39mresize(image, (\u001b[38;5;241m224\u001b[39m, \u001b[38;5;241m224\u001b[39m))\n",
            "\u001b[1;31mAttributeError\u001b[0m: 'NoneType' object has no attribute 'copy'"
          ]
        }
      ],
      "source": [
        "visualize_prediction(image_path2, labels_path=r\"E:\\DIL\\Fish_classification_ViT\\data\\labels\",\n",
        "                     model=model)"
      ]
    },
    {
      "cell_type": "code",
      "execution_count": 127,
      "metadata": {},
      "outputs": [
        {
          "ename": "AttributeError",
          "evalue": "'NoneType' object has no attribute 'copy'",
          "output_type": "error",
          "traceback": [
            "\u001b[1;31m---------------------------------------------------------------------------\u001b[0m",
            "\u001b[1;31mAttributeError\u001b[0m                            Traceback (most recent call last)",
            "Cell \u001b[1;32mIn[127], line 1\u001b[0m\n\u001b[1;32m----> 1\u001b[0m \u001b[43mvisualize_prediction\u001b[49m\u001b[43m(\u001b[49m\u001b[43mimage_path3\u001b[49m\u001b[43m,\u001b[49m\u001b[43m \u001b[49m\u001b[43mlabels_path\u001b[49m\u001b[38;5;241;43m=\u001b[39;49m\u001b[38;5;124;43mr\u001b[39;49m\u001b[38;5;124;43m\"\u001b[39;49m\u001b[38;5;124;43mE:\u001b[39;49m\u001b[38;5;124;43m\\\u001b[39;49m\u001b[38;5;124;43mDIL\u001b[39;49m\u001b[38;5;124;43m\\\u001b[39;49m\u001b[38;5;124;43mFish_classification_ViT\u001b[39;49m\u001b[38;5;124;43m\\\u001b[39;49m\u001b[38;5;124;43mdata\u001b[39;49m\u001b[38;5;124;43m\\\u001b[39;49m\u001b[38;5;124;43mlabels\u001b[39;49m\u001b[38;5;124;43m\"\u001b[39;49m\u001b[43m,\u001b[49m\n\u001b[0;32m      2\u001b[0m \u001b[43m                     \u001b[49m\u001b[43mmodel\u001b[49m\u001b[38;5;241;43m=\u001b[39;49m\u001b[43mmodel\u001b[49m\u001b[43m)\u001b[49m\n",
            "File \u001b[1;32md:\\Praharsha\\code\\CAMZ\\notebooks\\bbox_plotter.py:113\u001b[0m, in \u001b[0;36mvisualize_prediction\u001b[1;34m(image_path, labels_path, model)\u001b[0m\n\u001b[0;32m    111\u001b[0m \u001b[38;5;28;01mdef\u001b[39;00m \u001b[38;5;21mvisualize_prediction\u001b[39m(image_path, labels_path, model):\n\u001b[0;32m    112\u001b[0m     image \u001b[38;5;241m=\u001b[39m cv2\u001b[38;5;241m.\u001b[39mimread(image_path)\n\u001b[1;32m--> 113\u001b[0m     orig_image \u001b[38;5;241m=\u001b[39m \u001b[43mimage\u001b[49m\u001b[38;5;241;43m.\u001b[39;49m\u001b[43mcopy\u001b[49m()\n\u001b[0;32m    114\u001b[0m     height, width \u001b[38;5;241m=\u001b[39m image\u001b[38;5;241m.\u001b[39mshape[:\u001b[38;5;241m2\u001b[39m]\n\u001b[0;32m    115\u001b[0m     resized_image \u001b[38;5;241m=\u001b[39m cv2\u001b[38;5;241m.\u001b[39mresize(image, (\u001b[38;5;241m224\u001b[39m, \u001b[38;5;241m224\u001b[39m))\n",
            "\u001b[1;31mAttributeError\u001b[0m: 'NoneType' object has no attribute 'copy'"
          ]
        }
      ],
      "source": [
        "visualize_prediction(image_path3, labels_path=r\"E:\\DIL\\Fish_classification_ViT\\data\\labels\",\n",
        "                     model=model)"
      ]
    },
    {
      "cell_type": "code",
      "execution_count": null,
      "metadata": {},
      "outputs": [],
      "source": []
    }
  ],
  "metadata": {
    "accelerator": "GPU",
    "colab": {
      "gpuType": "T4",
      "provenance": []
    },
    "kernelspec": {
      "display_name": "tf",
      "language": "python",
      "name": "python3"
    },
    "language_info": {
      "codemirror_mode": {
        "name": "ipython",
        "version": 3
      },
      "file_extension": ".py",
      "mimetype": "text/x-python",
      "name": "python",
      "nbconvert_exporter": "python",
      "pygments_lexer": "ipython3",
      "version": "3.9.19"
    }
  },
  "nbformat": 4,
  "nbformat_minor": 0
}
