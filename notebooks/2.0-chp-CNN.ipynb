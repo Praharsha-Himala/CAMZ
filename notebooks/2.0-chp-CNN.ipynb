{
  "cells": [
    {
      "cell_type": "code",
      "execution_count": 1,
      "metadata": {},
      "outputs": [],
      "source": [
        "import torch\n",
        "import torch.nn as nn\n",
        "from torch.utils.data import Dataset, DataLoader, random_split\n",
        "from torchvision import transforms\n",
        "from bbox_plotter import yolo_to_corners\n",
        "from torchvision.ops import complete_box_iou_loss\n",
        "from PIL import Image\n",
        "import numpy as np\n",
        "import csv\n",
        "import os\n",
        "from bbox_plotter import visualize_prediction"
      ]
    },
    {
      "cell_type": "code",
      "execution_count": 2,
      "metadata": {},
      "outputs": [],
      "source": [
        "class ZebrafishDataset(Dataset):\n",
        "    def __init__(self, images_path, labels_path, transform=None):\n",
        "        self.images = np.load(images_path)\n",
        "        self.labels = np.load(labels_path)\n",
        "        self.transform = transform\n",
        "        \n",
        "    def __len__(self):\n",
        "        return len(self.labels)\n",
        "    \n",
        "    def __getitem__(self, idx):\n",
        "        image = self.images[idx]\n",
        "        label = self.labels[idx]\n",
        "\n",
        "        if self.transform:\n",
        "            image = self.transform(image)\n",
        "        \n",
        "        return torch.tensor(image, dtype=torch.float32), torch.tensor(label, dtype=torch.float32)\n",
        "    "
      ]
    },
    {
      "cell_type": "code",
      "execution_count": 3,
      "metadata": {},
      "outputs": [],
      "source": [
        "images_path = \"D:\\Praharsha\\Code\\CAMZ\\data\\interim\\X_labelled_data.npy\"\n",
        "labels_path = \"D:\\Praharsha\\Code\\CAMZ\\data\\interim\\y_labelled_data.npy\"\n",
        "\n",
        "transform = transforms.ToTensor()\n",
        "dataset = ZebrafishDataset(images_path, labels_path, transform=transform)\n",
        "\n",
        "train_size = int(0.8 * dataset.__len__())\n",
        "val_size = dataset.__len__() - train_size\n",
        "\n",
        "train_dataset, val_dataset = random_split(dataset, [train_size, val_size])"
      ]
    },
    {
      "cell_type": "code",
      "execution_count": 4,
      "metadata": {},
      "outputs": [],
      "source": [
        "train_loader = DataLoader(dataset = train_dataset, batch_size=32, shuffle=True)\n",
        "val_loader = DataLoader(dataset = val_dataset, batch_size=32, shuffle=True)"
      ]
    },
    {
      "cell_type": "code",
      "execution_count": 5,
      "metadata": {},
      "outputs": [],
      "source": [
        "class CNNModel(nn.Module):\n",
        "    def __init__(self):\n",
        "        super(CNNModel, self).__init__()\n",
        "        \n",
        "        self.conv1 = nn.Conv2d(in_channels=3, out_channels=32, kernel_size=3)\n",
        "        self.pool1 = nn.MaxPool2d(kernel_size=2, stride=2)\n",
        "        self.batch1 = nn.BatchNorm2d(32)\n",
        "        self.conv2 = nn.Conv2d(in_channels=32, out_channels=64, kernel_size=3)\n",
        "        self.pool2 = nn.MaxPool2d(kernel_size=2, stride=2)\n",
        "        self.batch2 = nn.BatchNorm2d(64)\n",
        "        \n",
        "        self.conv3 = nn.Conv2d(in_channels=64, out_channels=128, kernel_size=3)\n",
        "        self.pool3 = nn.MaxPool2d(kernel_size=2, stride=2)\n",
        "        self.global_avg_pool = nn.AdaptiveAvgPool2d((8, 8))  \n",
        "\n",
        "        self.flatten = nn.Flatten()\n",
        "        self.fc1 = nn.Linear(in_features= 128 * 8 * 8, out_features=128)\n",
        "        self.dropout1 = nn.Dropout(0.3)\n",
        "        self.fc2 = nn.Linear(in_features=128, out_features=64)\n",
        "        self.dropout2 = nn.Dropout(0.3)\n",
        "        self.fc3 = nn.Linear(in_features=64, out_features=4)\n",
        "        \n",
        "        \n",
        "    def forward(self, x):\n",
        "        x = self.pool1(torch.relu(self.conv1(x)))\n",
        "        x = self.batch1(x)\n",
        "        x = self.pool2(torch.relu(self.conv2(x)))\n",
        "        x = self.batch2(x)\n",
        "        x = self.global_avg_pool(self.pool3(torch.relu(self.conv3(x))))\n",
        "                \n",
        "        x = self.flatten(x)\n",
        "        \n",
        "        x = torch.relu(self.fc1(x))\n",
        "        x = self.dropout1(x)\n",
        "        x = torch.relu(self.fc2(x))\n",
        "        x = self.dropout2(x)\n",
        "        x = torch.sigmoid(self.fc3(x))\n",
        "        \n",
        "        return x\n",
        "        "
      ]
    },
    {
      "cell_type": "code",
      "execution_count": 6,
      "metadata": {},
      "outputs": [],
      "source": [
        "class CompleteBoxLoss(nn.Module):\n",
        "    def __init__(self):\n",
        "        super(CompleteBoxLoss, self).__init__()\n",
        "\n",
        "    def forward(self, pred_boxes, true_boxes, reduction):\n",
        "        ciou = complete_box_iou_loss(pred_boxes, true_boxes, reduction)\n",
        "        \n",
        "        return ciou\n"
      ]
    },
    {
      "cell_type": "code",
      "execution_count": 7,
      "metadata": {},
      "outputs": [],
      "source": [
        "model = CNNModel().to('cuda')\n",
        "ciou_loss_function = CompleteBoxLoss().to('cuda')\n",
        "optimizer = torch.optim.Adam(model.parameters(), lr=0.001)"
      ]
    },
    {
      "cell_type": "code",
      "execution_count": 8,
      "metadata": {},
      "outputs": [
        {
          "name": "stdout",
          "output_type": "stream",
          "text": [
            "CNNModel(\n",
            "  (conv1): Conv2d(3, 32, kernel_size=(3, 3), stride=(1, 1))\n",
            "  (pool1): MaxPool2d(kernel_size=2, stride=2, padding=0, dilation=1, ceil_mode=False)\n",
            "  (batch1): BatchNorm2d(32, eps=1e-05, momentum=0.1, affine=True, track_running_stats=True)\n",
            "  (conv2): Conv2d(32, 64, kernel_size=(3, 3), stride=(1, 1))\n",
            "  (pool2): MaxPool2d(kernel_size=2, stride=2, padding=0, dilation=1, ceil_mode=False)\n",
            "  (batch2): BatchNorm2d(64, eps=1e-05, momentum=0.1, affine=True, track_running_stats=True)\n",
            "  (conv3): Conv2d(64, 128, kernel_size=(3, 3), stride=(1, 1))\n",
            "  (pool3): MaxPool2d(kernel_size=2, stride=2, padding=0, dilation=1, ceil_mode=False)\n",
            "  (global_avg_pool): AdaptiveAvgPool2d(output_size=(8, 8))\n",
            "  (flatten): Flatten(start_dim=1, end_dim=-1)\n",
            "  (fc1): Linear(in_features=8192, out_features=128, bias=True)\n",
            "  (dropout1): Dropout(p=0.3, inplace=False)\n",
            "  (fc2): Linear(in_features=128, out_features=64, bias=True)\n",
            "  (dropout2): Dropout(p=0.3, inplace=False)\n",
            "  (fc3): Linear(in_features=64, out_features=4, bias=True)\n",
            ")\n"
          ]
        }
      ],
      "source": [
        "print(model)"
      ]
    },
    {
      "cell_type": "code",
      "execution_count": 9,
      "metadata": {},
      "outputs": [],
      "source": [
        "def Initialize_writer(file_path):\n",
        "    os.makedirs(os.path.dirname(file_path), exist_ok=True)\n",
        "    with open(file_path, mode='w', newline=\"\") as file:\n",
        "        writer = csv.writer(file)\n",
        "        writer.writerow(['epoch', 'loss', 'val_loss'])"
      ]
    },
    {
      "cell_type": "code",
      "execution_count": 10,
      "metadata": {},
      "outputs": [],
      "source": [
        "def validate(model, val_loader, loss_function):\n",
        "    model.eval()\n",
        "    ciou_total_batch_loss = 0.0\n",
        "    \n",
        "    \n",
        "    with torch.no_grad():\n",
        "        for inputs, labels in val_loader:\n",
        "            inputs = inputs.to('cuda')\n",
        "            labels = labels.to('cuda')\n",
        "            outputs = yolo_to_corners(model(inputs), image_width=720, image_height=720)\n",
        "            labels = yolo_to_corners(labels, image_width=720, image_height=720)\n",
        "            \n",
        "            ciou_loss_per_batch = loss_function(outputs, labels, 'mean')\n",
        "            \n",
        "            ciou_total_batch_loss += ciou_loss_per_batch.item()\n",
        "        \n",
        "        \n",
        "        ciou_total_loss = ciou_total_batch_loss / len(val_loader)\n",
        "        \n",
        "        \n",
        "        print(f\"CIoU: {ciou_total_loss:.4f}\", end=\" \")\n",
        "        return ciou_total_loss"
      ]
    },
    {
      "cell_type": "code",
      "execution_count": 11,
      "metadata": {},
      "outputs": [],
      "source": [
        "def train(model, train_loader, optimizer, \n",
        "          loss_function,\n",
        "          history_csv_path, \n",
        "          save_model_checkpoint_path, num_epochs=1, patience=5):\n",
        "    \n",
        "    Initialize_writer(history_csv_path)\n",
        "    \n",
        "    \n",
        "    best_val_ciou_loss = float('inf')\n",
        "    \n",
        "    model.train()\n",
        "        \n",
        "    for epoch in range(num_epochs):\n",
        "        ciou_total_batch_loss = 0.0\n",
        "         \n",
        "        for inputs, labels in train_loader:\n",
        "            inputs = inputs.to('cuda')\n",
        "            labels = labels.to('cuda')\n",
        "            \n",
        "            optimizer.zero_grad()\n",
        "            \n",
        "            norm_labels = yolo_to_corners(labels, image_width=720, image_height=720)\n",
        "            outputs = yolo_to_corners(model(inputs), image_width=720, image_height=720)\n",
        "                     \n",
        "            \n",
        "            ciou_loss_per_batch = loss_function(outputs, norm_labels, 'mean')\n",
        "            \n",
        "            ciou_loss_per_batch.backward()\n",
        "            \n",
        "            optimizer.step()\n",
        "            \n",
        "            ciou_total_batch_loss += ciou_loss_per_batch.item()\n",
        "            \n",
        "        ciou_loss_per_epoch = ciou_total_batch_loss / len(train_loader)\n",
        "        \n",
        "        print(end='\\n')\n",
        "        print(f\"Epoch [{epoch+1}/{num_epochs}], CIoU: {ciou_loss_per_epoch:.4f}\", end=\" --- \")\n",
        "        print(f\"Validation for Epoch [{epoch+1}/{num_epochs}]\", end=\", \")\n",
        "        val_ciou_loss = validate(model, val_loader, loss_function)\n",
        "        \n",
        "        \n",
        "        if val_ciou_loss < best_val_ciou_loss:\n",
        "            best_val_ciou_loss = val_ciou_loss\n",
        "            checkpoint = {'state_dict': model.state_dict(), 'optimizer': optimizer.state_dict()}\n",
        "            print(\"\\n\")\n",
        "            print(f\"=========Saving Checkpoint======= at Epoch:[{epoch+1}/{num_epochs}]\", end=\"\\n\")\n",
        "            torch.save(checkpoint, save_model_checkpoint_path)\n",
        "            early_stopping = 0\n",
        "        \n",
        "        else:\n",
        "            early_stopping+=1 \n",
        "            \n",
        "\n",
        "        \n",
        "        with open(history_csv_path, mode='a', newline=\"\") as file:\n",
        "            loss_writer = csv.writer(file)\n",
        "            loss_writer.writerow([epoch+1, ciou_loss_per_epoch, val_ciou_loss])\n",
        "        \n",
        "        # if early_stopping >= patience:\n",
        "        #     print(f\"Early stopping occured at {epoch+1}\")\n",
        "        #     break\n",
        "             \n",
        "    print(f\"The best Validation Loss is: {best_val_ciou_loss}\")\n",
        "                "
      ]
    },
    {
      "cell_type": "code",
      "execution_count": 12,
      "metadata": {},
      "outputs": [],
      "source": [
        "history_csv_file = \"D:\\Praharsha\\code\\CAMZ\\models\\model_history\\CNN_loss_logger.csv\"\n",
        "checkpoints_file = 'D:\\Praharsha\\code\\CAMZ\\models\\model_history\\CNN_checkpoint.pth.tar'"
      ]
    },
    {
      "cell_type": "code",
      "execution_count": 13,
      "metadata": {},
      "outputs": [
        {
          "name": "stderr",
          "output_type": "stream",
          "text": [
            "C:\\Users\\USER\\AppData\\Local\\Temp\\ipykernel_11660\\2586282732.py:17: UserWarning: To copy construct from a tensor, it is recommended to use sourceTensor.clone().detach() or sourceTensor.clone().detach().requires_grad_(True), rather than torch.tensor(sourceTensor).\n",
            "  return torch.tensor(image, dtype=torch.float32), torch.tensor(label, dtype=torch.float32)\n"
          ]
        },
        {
          "name": "stdout",
          "output_type": "stream",
          "text": [
            "\n",
            "Epoch [1/100], CIoU: 0.9926 --- Validation for Epoch [1/100], CIoU: 1.0989 \n",
            "\n",
            "=========Saving Checkpoint======= at Epoch:[1/100]\n",
            "\n",
            "Epoch [2/100], CIoU: 0.8105 --- Validation for Epoch [2/100], CIoU: 0.6081 \n",
            "\n",
            "=========Saving Checkpoint======= at Epoch:[2/100]\n",
            "\n",
            "Epoch [3/100], CIoU: 0.5896 --- Validation for Epoch [3/100], CIoU: 0.5670 \n",
            "\n",
            "=========Saving Checkpoint======= at Epoch:[3/100]\n",
            "\n",
            "Epoch [4/100], CIoU: 0.5100 --- Validation for Epoch [4/100], CIoU: 0.4792 \n",
            "\n",
            "=========Saving Checkpoint======= at Epoch:[4/100]\n",
            "\n",
            "Epoch [5/100], CIoU: 0.4835 --- Validation for Epoch [5/100], CIoU: 0.4972 \n",
            "Epoch [6/100], CIoU: 0.4385 --- Validation for Epoch [6/100], CIoU: 0.4363 \n",
            "\n",
            "=========Saving Checkpoint======= at Epoch:[6/100]\n",
            "\n",
            "Epoch [7/100], CIoU: 0.4111 --- Validation for Epoch [7/100], CIoU: 0.4430 \n",
            "Epoch [8/100], CIoU: 0.3886 --- Validation for Epoch [8/100], CIoU: 0.4040 \n",
            "\n",
            "=========Saving Checkpoint======= at Epoch:[8/100]\n",
            "\n",
            "Epoch [9/100], CIoU: 0.3773 --- Validation for Epoch [9/100], CIoU: 0.4631 \n",
            "Epoch [10/100], CIoU: 0.3657 --- Validation for Epoch [10/100], CIoU: 0.3908 \n",
            "\n",
            "=========Saving Checkpoint======= at Epoch:[10/100]\n",
            "\n",
            "Epoch [11/100], CIoU: 0.3515 --- Validation for Epoch [11/100], CIoU: 0.3634 \n",
            "\n",
            "=========Saving Checkpoint======= at Epoch:[11/100]\n",
            "\n",
            "Epoch [12/100], CIoU: 0.3306 --- Validation for Epoch [12/100], CIoU: 0.3598 \n",
            "\n",
            "=========Saving Checkpoint======= at Epoch:[12/100]\n",
            "\n",
            "Epoch [13/100], CIoU: 0.3223 --- Validation for Epoch [13/100], CIoU: 0.3486 \n",
            "\n",
            "=========Saving Checkpoint======= at Epoch:[13/100]\n",
            "\n",
            "Epoch [14/100], CIoU: 0.3258 --- Validation for Epoch [14/100], CIoU: 0.3521 \n",
            "Epoch [15/100], CIoU: 0.3290 --- Validation for Epoch [15/100], CIoU: 0.3400 \n",
            "\n",
            "=========Saving Checkpoint======= at Epoch:[15/100]\n",
            "\n",
            "Epoch [16/100], CIoU: 0.3060 --- Validation for Epoch [16/100], CIoU: 0.3471 \n",
            "Epoch [17/100], CIoU: 0.3060 --- Validation for Epoch [17/100], CIoU: 0.3853 \n",
            "Epoch [18/100], CIoU: 0.3113 --- Validation for Epoch [18/100], CIoU: 0.3131 \n",
            "\n",
            "=========Saving Checkpoint======= at Epoch:[18/100]\n",
            "\n",
            "Epoch [19/100], CIoU: 0.3080 --- Validation for Epoch [19/100], CIoU: 0.3385 \n",
            "Epoch [20/100], CIoU: 0.2873 --- Validation for Epoch [20/100], CIoU: 0.2989 \n",
            "\n",
            "=========Saving Checkpoint======= at Epoch:[20/100]\n",
            "\n",
            "Epoch [21/100], CIoU: 0.2791 --- Validation for Epoch [21/100], CIoU: 0.3259 \n",
            "Epoch [22/100], CIoU: 0.2759 --- Validation for Epoch [22/100], CIoU: 0.3312 \n",
            "Epoch [23/100], CIoU: 0.2807 --- Validation for Epoch [23/100], CIoU: 0.3363 \n",
            "Epoch [24/100], CIoU: 0.2667 --- Validation for Epoch [24/100], CIoU: 0.3736 \n",
            "Epoch [25/100], CIoU: 0.2891 --- Validation for Epoch [25/100], CIoU: 0.3050 \n",
            "Epoch [26/100], CIoU: 0.2602 --- Validation for Epoch [26/100], CIoU: 0.3164 \n",
            "Epoch [27/100], CIoU: 0.2807 --- Validation for Epoch [27/100], CIoU: 0.3459 \n",
            "Epoch [28/100], CIoU: 0.2737 --- Validation for Epoch [28/100], CIoU: 0.3242 \n",
            "Epoch [29/100], CIoU: 0.2697 --- Validation for Epoch [29/100], CIoU: 0.3337 \n",
            "Epoch [30/100], CIoU: 0.2482 --- Validation for Epoch [30/100], CIoU: 0.2867 \n",
            "\n",
            "=========Saving Checkpoint======= at Epoch:[30/100]\n",
            "\n",
            "Epoch [31/100], CIoU: 0.2582 --- Validation for Epoch [31/100], CIoU: 0.2916 \n",
            "Epoch [32/100], CIoU: 0.2478 --- Validation for Epoch [32/100], CIoU: 0.2917 \n",
            "Epoch [33/100], CIoU: 0.2459 --- Validation for Epoch [33/100], CIoU: 0.2893 \n",
            "Epoch [34/100], CIoU: 0.2417 --- Validation for Epoch [34/100], CIoU: 0.2988 \n",
            "Epoch [35/100], CIoU: 0.2405 --- Validation for Epoch [35/100], CIoU: 0.2883 \n",
            "Epoch [36/100], CIoU: 0.2409 --- Validation for Epoch [36/100], CIoU: 0.2910 \n",
            "Epoch [37/100], CIoU: 0.2493 --- Validation for Epoch [37/100], CIoU: 0.3089 \n",
            "Epoch [38/100], CIoU: 0.2376 --- Validation for Epoch [38/100], CIoU: 0.3029 \n",
            "Epoch [39/100], CIoU: 0.2431 --- Validation for Epoch [39/100], CIoU: 0.2998 \n",
            "Epoch [40/100], CIoU: 0.2499 --- Validation for Epoch [40/100], CIoU: 0.3036 \n",
            "Epoch [41/100], CIoU: 0.2226 --- Validation for Epoch [41/100], CIoU: 0.2940 \n",
            "Epoch [42/100], CIoU: 0.2219 --- Validation for Epoch [42/100], CIoU: 0.2865 \n",
            "\n",
            "=========Saving Checkpoint======= at Epoch:[42/100]\n",
            "\n",
            "Epoch [43/100], CIoU: 0.2326 --- Validation for Epoch [43/100], CIoU: 0.2713 \n",
            "\n",
            "=========Saving Checkpoint======= at Epoch:[43/100]\n",
            "\n",
            "Epoch [44/100], CIoU: 0.2196 --- Validation for Epoch [44/100], CIoU: 0.2982 \n",
            "Epoch [45/100], CIoU: 0.2299 --- Validation for Epoch [45/100], CIoU: 0.2963 \n",
            "Epoch [46/100], CIoU: 0.2272 --- Validation for Epoch [46/100], CIoU: 0.3043 \n",
            "Epoch [47/100], CIoU: 0.2138 --- Validation for Epoch [47/100], CIoU: 0.2927 \n",
            "Epoch [48/100], CIoU: 0.2187 --- Validation for Epoch [48/100], CIoU: 0.2952 \n",
            "Epoch [49/100], CIoU: 0.2104 --- Validation for Epoch [49/100], CIoU: 0.2903 \n",
            "Epoch [50/100], CIoU: 0.2222 --- Validation for Epoch [50/100], CIoU: 0.3083 \n",
            "Epoch [51/100], CIoU: 0.2101 --- Validation for Epoch [51/100], CIoU: 0.2824 \n",
            "Epoch [52/100], CIoU: 0.2070 --- Validation for Epoch [52/100], CIoU: 0.2896 \n",
            "Epoch [53/100], CIoU: 0.2108 --- Validation for Epoch [53/100], CIoU: 0.2792 \n",
            "Epoch [54/100], CIoU: 0.2234 --- Validation for Epoch [54/100], CIoU: 0.2816 \n",
            "Epoch [55/100], CIoU: 0.2053 --- Validation for Epoch [55/100], CIoU: 0.2905 \n",
            "Epoch [56/100], CIoU: 0.2007 --- Validation for Epoch [56/100], CIoU: 0.2708 \n",
            "\n",
            "=========Saving Checkpoint======= at Epoch:[56/100]\n",
            "\n",
            "Epoch [57/100], CIoU: 0.2112 --- Validation for Epoch [57/100], CIoU: 0.2811 \n",
            "Epoch [58/100], CIoU: 0.2051 --- Validation for Epoch [58/100], CIoU: 0.3036 \n",
            "Epoch [59/100], CIoU: 0.2089 --- Validation for Epoch [59/100], CIoU: 0.2906 \n",
            "Epoch [60/100], CIoU: 0.2226 --- Validation for Epoch [60/100], CIoU: 0.2687 \n",
            "\n",
            "=========Saving Checkpoint======= at Epoch:[60/100]\n",
            "\n",
            "Epoch [61/100], CIoU: 0.1999 --- Validation for Epoch [61/100], CIoU: 0.2840 \n",
            "Epoch [62/100], CIoU: 0.2143 --- Validation for Epoch [62/100], CIoU: 0.2826 \n",
            "Epoch [63/100], CIoU: 0.2026 --- Validation for Epoch [63/100], CIoU: 0.2732 \n",
            "Epoch [64/100], CIoU: 0.2144 --- Validation for Epoch [64/100], CIoU: 0.2853 \n",
            "Epoch [65/100], CIoU: 0.2032 --- Validation for Epoch [65/100], CIoU: 0.2716 \n",
            "Epoch [66/100], CIoU: 0.1965 --- Validation for Epoch [66/100], CIoU: 0.2866 \n",
            "Epoch [67/100], CIoU: 0.2054 --- Validation for Epoch [67/100], CIoU: 0.2629 \n",
            "\n",
            "=========Saving Checkpoint======= at Epoch:[67/100]\n",
            "\n",
            "Epoch [68/100], CIoU: 0.1982 --- Validation for Epoch [68/100], CIoU: 0.2896 \n",
            "Epoch [69/100], CIoU: 0.1970 --- Validation for Epoch [69/100], CIoU: 0.2830 \n",
            "Epoch [70/100], CIoU: 0.1936 --- Validation for Epoch [70/100], CIoU: 0.2753 \n",
            "Epoch [71/100], CIoU: 0.1958 --- Validation for Epoch [71/100], CIoU: 0.2885 \n",
            "Epoch [72/100], CIoU: 0.1972 --- Validation for Epoch [72/100], CIoU: 0.2738 \n",
            "Epoch [73/100], CIoU: 0.1937 --- Validation for Epoch [73/100], CIoU: 0.2684 \n",
            "Epoch [74/100], CIoU: 0.1881 --- Validation for Epoch [74/100], CIoU: 0.2644 \n",
            "Epoch [75/100], CIoU: 0.1808 --- Validation for Epoch [75/100], CIoU: 0.2770 \n",
            "Epoch [76/100], CIoU: 0.1790 --- Validation for Epoch [76/100], CIoU: 0.2819 \n",
            "Epoch [77/100], CIoU: 0.1787 --- Validation for Epoch [77/100], CIoU: 0.2682 \n",
            "Epoch [78/100], CIoU: 0.1907 --- Validation for Epoch [78/100], CIoU: 0.2887 \n",
            "Epoch [79/100], CIoU: 0.1889 --- Validation for Epoch [79/100], CIoU: 0.2653 \n",
            "Epoch [80/100], CIoU: 0.1724 --- Validation for Epoch [80/100], CIoU: 0.2624 \n",
            "\n",
            "=========Saving Checkpoint======= at Epoch:[80/100]\n",
            "\n",
            "Epoch [81/100], CIoU: 0.1775 --- Validation for Epoch [81/100], CIoU: 0.2691 \n",
            "Epoch [82/100], CIoU: 0.1757 --- Validation for Epoch [82/100], CIoU: 0.2824 \n",
            "Epoch [83/100], CIoU: 0.1772 --- Validation for Epoch [83/100], CIoU: 0.2798 \n",
            "Epoch [84/100], CIoU: 0.1908 --- Validation for Epoch [84/100], CIoU: 0.2710 \n",
            "Epoch [85/100], CIoU: 0.1720 --- Validation for Epoch [85/100], CIoU: 0.2620 \n",
            "\n",
            "=========Saving Checkpoint======= at Epoch:[85/100]\n",
            "\n",
            "Epoch [86/100], CIoU: 0.1672 --- Validation for Epoch [86/100], CIoU: 0.2782 \n",
            "Epoch [87/100], CIoU: 0.1745 --- Validation for Epoch [87/100], CIoU: 0.2575 \n",
            "\n",
            "=========Saving Checkpoint======= at Epoch:[87/100]\n",
            "\n",
            "Epoch [88/100], CIoU: 0.1649 --- Validation for Epoch [88/100], CIoU: 0.2732 \n",
            "Epoch [89/100], CIoU: 0.1831 --- Validation for Epoch [89/100], CIoU: 0.2780 \n",
            "Epoch [90/100], CIoU: 0.1895 --- Validation for Epoch [90/100], CIoU: 0.2630 \n",
            "Epoch [91/100], CIoU: 0.1727 --- Validation for Epoch [91/100], CIoU: 0.2930 \n",
            "Epoch [92/100], CIoU: 0.1883 --- Validation for Epoch [92/100], CIoU: 0.2898 \n",
            "Epoch [93/100], CIoU: 0.1773 --- Validation for Epoch [93/100], CIoU: 0.2620 \n",
            "Epoch [94/100], CIoU: 0.1664 --- Validation for Epoch [94/100], CIoU: 0.2687 \n",
            "Epoch [95/100], CIoU: 0.1591 --- Validation for Epoch [95/100], CIoU: 0.2749 \n",
            "Epoch [96/100], CIoU: 0.1617 --- Validation for Epoch [96/100], CIoU: 0.2563 \n",
            "\n",
            "=========Saving Checkpoint======= at Epoch:[96/100]\n",
            "\n",
            "Epoch [97/100], CIoU: 0.1790 --- Validation for Epoch [97/100], CIoU: 0.2702 \n",
            "Epoch [98/100], CIoU: 0.1690 --- Validation for Epoch [98/100], CIoU: 0.2719 \n",
            "Epoch [99/100], CIoU: 0.1568 --- Validation for Epoch [99/100], CIoU: 0.2544 \n",
            "\n",
            "=========Saving Checkpoint======= at Epoch:[99/100]\n",
            "\n",
            "Epoch [100/100], CIoU: 0.1633 --- Validation for Epoch [100/100], CIoU: 0.2855 The best Validation Loss is: 0.2544073234001795\n"
          ]
        }
      ],
      "source": [
        "train(model, train_loader, optimizer, ciou_loss_function,history_csv_path=history_csv_file,\n",
        "      save_model_checkpoint_path=checkpoints_file, num_epochs=100)"
      ]
    },
    {
      "cell_type": "code",
      "execution_count": 14,
      "metadata": {},
      "outputs": [
        {
          "name": "stdout",
          "output_type": "stream",
          "text": [
            "The best loss of 0.1567837904419815 achieved at Epoch: 99\n"
          ]
        },
        {
          "data": {
            "image/png": "[encoded data removed]",
            "text/plain": [
              "<Figure size 1000x600 with 1 Axes>"
            ]
          },
          "metadata": {},
          "output_type": "display_data"
        }
      ],
      "source": [
        "from loss_curve_visualization import plot_loss_curves\n",
        "plot_loss_curves(\"D:\\Praharsha\\code\\CAMZ\\models\\model_history\\CNN_loss_logger.csv\")"
      ]
    },
    {
      "cell_type": "code",
      "execution_count": 19,
      "metadata": {},
      "outputs": [
        {
          "name": "stdout",
          "output_type": "stream",
          "text": [
            "loading checkpoint...\n"
          ]
        },
        {
          "name": "stderr",
          "output_type": "stream",
          "text": [
            "C:\\Users\\USER\\AppData\\Local\\Temp\\ipykernel_20596\\2110258423.py:3: FutureWarning: You are using `torch.load` with `weights_only=False` (the current default value), which uses the default pickle module implicitly. It is possible to construct malicious pickle data which will execute arbitrary code during unpickling (See https://github.com/pytorch/pytorch/blob/main/SECURITY.md#untrusted-models for more details). In a future release, the default value for `weights_only` will be flipped to `True`. This limits the functions that could be executed during unpickling. Arbitrary objects will no longer be allowed to be loaded via this mode unless they are explicitly allowlisted by the user via `torch.serialization.add_safe_globals`. We recommend you start setting `weights_only=True` for any use case where you don't have full control of the loaded file. Please open an issue on GitHub for any issues related to this experimental feature.\n",
            "  checkpoint = torch.load(checkpoint)\n"
          ]
        }
      ],
      "source": [
        "def load_checkpoint(checkpoint, architecture, optimizer):\n",
        "    print(\"loading checkpoint...\")\n",
        "    checkpoint = torch.load(checkpoint)\n",
        "    \n",
        "    model = architecture()\n",
        "    \n",
        "    model.load_state_dict(checkpoint['state_dict'])\n",
        "    optimizer.load_state_dict(checkpoint['optimizer'])\n",
        "\n",
        "    return model.eval()\n",
        "model = load_checkpoint(\"D:\\Praharsha\\code\\CAMZ\\models\\model_history\\CNN_checkpoint.pth.tar\", CNNModel, optimizer)"
      ]
    },
    {
      "cell_type": "code",
      "execution_count": 125,
      "metadata": {},
      "outputs": [
        {
          "ename": "AttributeError",
          "evalue": "'NoneType' object has no attribute 'copy'",
          "output_type": "error",
          "traceback": [
            "\u001b[1;31m---------------------------------------------------------------------------\u001b[0m",
            "\u001b[1;31mAttributeError\u001b[0m                            Traceback (most recent call last)",
            "Cell \u001b[1;32mIn[125], line 5\u001b[0m\n\u001b[0;32m      2\u001b[0m image_path2 \u001b[38;5;241m=\u001b[39m \u001b[38;5;124mr\u001b[39m\u001b[38;5;124m\"\u001b[39m\u001b[38;5;124mE:\u001b[39m\u001b[38;5;124m\\\u001b[39m\u001b[38;5;124mDIL\u001b[39m\u001b[38;5;124m\\\u001b[39m\u001b[38;5;124mFish_classification_ViT\u001b[39m\u001b[38;5;124m\\\u001b[39m\u001b[38;5;124mdata\u001b[39m\u001b[38;5;124m\\\u001b[39m\u001b[38;5;124m1Lcrop284.jpg.jpg\u001b[39m\u001b[38;5;124m\"\u001b[39m\n\u001b[0;32m      3\u001b[0m image_path3 \u001b[38;5;241m=\u001b[39m \u001b[38;5;124mr\u001b[39m\u001b[38;5;124m\"\u001b[39m\u001b[38;5;124mE:\u001b[39m\u001b[38;5;124m\\\u001b[39m\u001b[38;5;124mDIL\u001b[39m\u001b[38;5;124m\\\u001b[39m\u001b[38;5;124mFish_classification_ViT\u001b[39m\u001b[38;5;124m\\\u001b[39m\u001b[38;5;124mdata\u001b[39m\u001b[38;5;124m\\\u001b[39m\u001b[38;5;124m1Lcrop313.jpg.jpg\u001b[39m\u001b[38;5;124m\"\u001b[39m\n\u001b[1;32m----> 5\u001b[0m \u001b[43mvisualize_prediction\u001b[49m\u001b[43m(\u001b[49m\u001b[43mimage_path1\u001b[49m\u001b[43m,\u001b[49m\u001b[43m \u001b[49m\u001b[43mlabels_path\u001b[49m\u001b[38;5;241;43m=\u001b[39;49m\u001b[38;5;124;43mr\u001b[39;49m\u001b[38;5;124;43m\"\u001b[39;49m\u001b[38;5;124;43mE:\u001b[39;49m\u001b[38;5;124;43m\\\u001b[39;49m\u001b[38;5;124;43mDIL\u001b[39;49m\u001b[38;5;124;43m\\\u001b[39;49m\u001b[38;5;124;43mFish_classification_ViT\u001b[39;49m\u001b[38;5;124;43m\\\u001b[39;49m\u001b[38;5;124;43mdata\u001b[39;49m\u001b[38;5;124;43m\\\u001b[39;49m\u001b[38;5;124;43mlabels\u001b[39;49m\u001b[38;5;124;43m\"\u001b[39;49m\u001b[43m,\u001b[49m\n\u001b[0;32m      6\u001b[0m \u001b[43m                     \u001b[49m\u001b[43mmodel\u001b[49m\u001b[38;5;241;43m=\u001b[39;49m\u001b[43mmodel\u001b[49m\u001b[43m)\u001b[49m\n",
            "File \u001b[1;32md:\\Praharsha\\code\\CAMZ\\notebooks\\bbox_plotter.py:113\u001b[0m, in \u001b[0;36mvisualize_prediction\u001b[1;34m(image_path, labels_path, model)\u001b[0m\n\u001b[0;32m    111\u001b[0m \u001b[38;5;28;01mdef\u001b[39;00m \u001b[38;5;21mvisualize_prediction\u001b[39m(image_path, labels_path, model):\n\u001b[0;32m    112\u001b[0m     image \u001b[38;5;241m=\u001b[39m cv2\u001b[38;5;241m.\u001b[39mimread(image_path)\n\u001b[1;32m--> 113\u001b[0m     orig_image \u001b[38;5;241m=\u001b[39m \u001b[43mimage\u001b[49m\u001b[38;5;241;43m.\u001b[39;49m\u001b[43mcopy\u001b[49m()\n\u001b[0;32m    114\u001b[0m     height, width \u001b[38;5;241m=\u001b[39m image\u001b[38;5;241m.\u001b[39mshape[:\u001b[38;5;241m2\u001b[39m]\n\u001b[0;32m    115\u001b[0m     resized_image \u001b[38;5;241m=\u001b[39m cv2\u001b[38;5;241m.\u001b[39mresize(image, (\u001b[38;5;241m224\u001b[39m, \u001b[38;5;241m224\u001b[39m))\n",
            "\u001b[1;31mAttributeError\u001b[0m: 'NoneType' object has no attribute 'copy'"
          ]
        }
      ],
      "source": [
        "image_path1 = r\"E:\\DIL\\Fish_classification_ViT\\data\\1Lcrop989.jpg.jpg\"\n",
        "image_path2 = r\"E:\\DIL\\Fish_classification_ViT\\data\\1Lcrop284.jpg.jpg\"\n",
        "image_path3 = r\"E:\\DIL\\Fish_classification_ViT\\data\\1Lcrop313.jpg.jpg\"\n",
        "\n",
        "visualize_prediction(image_path1, labels_path=r\"E:\\DIL\\Fish_classification_ViT\\data\\labels\",\n",
        "                     model=model)\n",
        "    "
      ]
    },
    {
      "cell_type": "code",
      "execution_count": 126,
      "metadata": {},
      "outputs": [
        {
          "ename": "AttributeError",
          "evalue": "'NoneType' object has no attribute 'copy'",
          "output_type": "error",
          "traceback": [
            "\u001b[1;31m---------------------------------------------------------------------------\u001b[0m",
            "\u001b[1;31mAttributeError\u001b[0m                            Traceback (most recent call last)",
            "Cell \u001b[1;32mIn[126], line 1\u001b[0m\n\u001b[1;32m----> 1\u001b[0m \u001b[43mvisualize_prediction\u001b[49m\u001b[43m(\u001b[49m\u001b[43mimage_path2\u001b[49m\u001b[43m,\u001b[49m\u001b[43m \u001b[49m\u001b[43mlabels_path\u001b[49m\u001b[38;5;241;43m=\u001b[39;49m\u001b[38;5;124;43mr\u001b[39;49m\u001b[38;5;124;43m\"\u001b[39;49m\u001b[38;5;124;43mE:\u001b[39;49m\u001b[38;5;124;43m\\\u001b[39;49m\u001b[38;5;124;43mDIL\u001b[39;49m\u001b[38;5;124;43m\\\u001b[39;49m\u001b[38;5;124;43mFish_classification_ViT\u001b[39;49m\u001b[38;5;124;43m\\\u001b[39;49m\u001b[38;5;124;43mdata\u001b[39;49m\u001b[38;5;124;43m\\\u001b[39;49m\u001b[38;5;124;43mlabels\u001b[39;49m\u001b[38;5;124;43m\"\u001b[39;49m\u001b[43m,\u001b[49m\n\u001b[0;32m      2\u001b[0m \u001b[43m                     \u001b[49m\u001b[43mmodel\u001b[49m\u001b[38;5;241;43m=\u001b[39;49m\u001b[43mmodel\u001b[49m\u001b[43m)\u001b[49m\n",
            "File \u001b[1;32md:\\Praharsha\\code\\CAMZ\\notebooks\\bbox_plotter.py:113\u001b[0m, in \u001b[0;36mvisualize_prediction\u001b[1;34m(image_path, labels_path, model)\u001b[0m\n\u001b[0;32m    111\u001b[0m \u001b[38;5;28;01mdef\u001b[39;00m \u001b[38;5;21mvisualize_prediction\u001b[39m(image_path, labels_path, model):\n\u001b[0;32m    112\u001b[0m     image \u001b[38;5;241m=\u001b[39m cv2\u001b[38;5;241m.\u001b[39mimread(image_path)\n\u001b[1;32m--> 113\u001b[0m     orig_image \u001b[38;5;241m=\u001b[39m \u001b[43mimage\u001b[49m\u001b[38;5;241;43m.\u001b[39;49m\u001b[43mcopy\u001b[49m()\n\u001b[0;32m    114\u001b[0m     height, width \u001b[38;5;241m=\u001b[39m image\u001b[38;5;241m.\u001b[39mshape[:\u001b[38;5;241m2\u001b[39m]\n\u001b[0;32m    115\u001b[0m     resized_image \u001b[38;5;241m=\u001b[39m cv2\u001b[38;5;241m.\u001b[39mresize(image, (\u001b[38;5;241m224\u001b[39m, \u001b[38;5;241m224\u001b[39m))\n",
            "\u001b[1;31mAttributeError\u001b[0m: 'NoneType' object has no attribute 'copy'"
          ]
        }
      ],
      "source": [
        "visualize_prediction(image_path2, labels_path=r\"E:\\DIL\\Fish_classification_ViT\\data\\labels\",\n",
        "                     model=model)"
      ]
    },
    {
      "cell_type": "code",
      "execution_count": 127,
      "metadata": {},
      "outputs": [
        {
          "ename": "AttributeError",
          "evalue": "'NoneType' object has no attribute 'copy'",
          "output_type": "error",
          "traceback": [
            "\u001b[1;31m---------------------------------------------------------------------------\u001b[0m",
            "\u001b[1;31mAttributeError\u001b[0m                            Traceback (most recent call last)",
            "Cell \u001b[1;32mIn[127], line 1\u001b[0m\n\u001b[1;32m----> 1\u001b[0m \u001b[43mvisualize_prediction\u001b[49m\u001b[43m(\u001b[49m\u001b[43mimage_path3\u001b[49m\u001b[43m,\u001b[49m\u001b[43m \u001b[49m\u001b[43mlabels_path\u001b[49m\u001b[38;5;241;43m=\u001b[39;49m\u001b[38;5;124;43mr\u001b[39;49m\u001b[38;5;124;43m\"\u001b[39;49m\u001b[38;5;124;43mE:\u001b[39;49m\u001b[38;5;124;43m\\\u001b[39;49m\u001b[38;5;124;43mDIL\u001b[39;49m\u001b[38;5;124;43m\\\u001b[39;49m\u001b[38;5;124;43mFish_classification_ViT\u001b[39;49m\u001b[38;5;124;43m\\\u001b[39;49m\u001b[38;5;124;43mdata\u001b[39;49m\u001b[38;5;124;43m\\\u001b[39;49m\u001b[38;5;124;43mlabels\u001b[39;49m\u001b[38;5;124;43m\"\u001b[39;49m\u001b[43m,\u001b[49m\n\u001b[0;32m      2\u001b[0m \u001b[43m                     \u001b[49m\u001b[43mmodel\u001b[49m\u001b[38;5;241;43m=\u001b[39;49m\u001b[43mmodel\u001b[49m\u001b[43m)\u001b[49m\n",
            "File \u001b[1;32md:\\Praharsha\\code\\CAMZ\\notebooks\\bbox_plotter.py:113\u001b[0m, in \u001b[0;36mvisualize_prediction\u001b[1;34m(image_path, labels_path, model)\u001b[0m\n\u001b[0;32m    111\u001b[0m \u001b[38;5;28;01mdef\u001b[39;00m \u001b[38;5;21mvisualize_prediction\u001b[39m(image_path, labels_path, model):\n\u001b[0;32m    112\u001b[0m     image \u001b[38;5;241m=\u001b[39m cv2\u001b[38;5;241m.\u001b[39mimread(image_path)\n\u001b[1;32m--> 113\u001b[0m     orig_image \u001b[38;5;241m=\u001b[39m \u001b[43mimage\u001b[49m\u001b[38;5;241;43m.\u001b[39;49m\u001b[43mcopy\u001b[49m()\n\u001b[0;32m    114\u001b[0m     height, width \u001b[38;5;241m=\u001b[39m image\u001b[38;5;241m.\u001b[39mshape[:\u001b[38;5;241m2\u001b[39m]\n\u001b[0;32m    115\u001b[0m     resized_image \u001b[38;5;241m=\u001b[39m cv2\u001b[38;5;241m.\u001b[39mresize(image, (\u001b[38;5;241m224\u001b[39m, \u001b[38;5;241m224\u001b[39m))\n",
            "\u001b[1;31mAttributeError\u001b[0m: 'NoneType' object has no attribute 'copy'"
          ]
        }
      ],
      "source": [
        "visualize_prediction(image_path3, labels_path=r\"E:\\DIL\\Fish_classification_ViT\\data\\labels\",\n",
        "                     model=model)"
      ]
    },
    {
      "cell_type": "code",
      "execution_count": null,
      "metadata": {},
      "outputs": [],
      "source": []
    }
  ],
  "metadata": {
    "accelerator": "GPU",
    "colab": {
      "gpuType": "T4",
      "provenance": []
    },
    "kernelspec": {
      "display_name": "tf",
      "language": "python",
      "name": "python3"
    },
    "language_info": {
      "codemirror_mode": {
        "name": "ipython",
        "version": 3
      },
      "file_extension": ".py",
      "mimetype": "text/x-python",
      "name": "python",
      "nbconvert_exporter": "python",
      "pygments_lexer": "ipython3",
      "version": "3.9.19"
    }
  },
  "nbformat": 4,
  "nbformat_minor": 0
}
