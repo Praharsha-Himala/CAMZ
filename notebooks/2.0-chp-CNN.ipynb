{
  "cells": [
    {
      "cell_type": "code",
      "execution_count": 1,
      "metadata": {},
      "outputs": [],
      "source": [
        "import torch\n",
        "import torch.nn as nn\n",
        "from torch.utils.data import Dataset, DataLoader, random_split\n",
        "from torchvision import transforms\n",
        "from bbox_plotter import yolo_to_corners\n",
        "from torchvision.ops import complete_box_iou_loss\n",
        "from PIL import Image\n",
        "import numpy as np\n",
        "import csv\n",
        "import os\n",
        "from bbox_plotter import visualize_prediction"
      ]
    },
    {
      "cell_type": "code",
      "execution_count": 2,
      "metadata": {},
      "outputs": [],
      "source": [
        "class ZebrafishDataset(Dataset):\n",
        "    def __init__(self, images_path, labels_path, transform=None):\n",
        "        self.images = np.load(images_path)\n",
        "        self.labels = np.load(labels_path)\n",
        "        self.transform = transform\n",
        "        \n",
        "    def __len__(self):\n",
        "        return len(self.labels)\n",
        "    \n",
        "    def __getitem__(self, idx):\n",
        "        image = self.images[idx]\n",
        "        label = self.labels[idx]\n",
        "\n",
        "        if self.transform:\n",
        "            image = self.transform(image)\n",
        "        \n",
        "        return torch.tensor(image, dtype=torch.float32), torch.tensor(label, dtype=torch.float32)\n",
        "    "
      ]
    },
    {
      "cell_type": "code",
      "execution_count": 3,
      "metadata": {},
      "outputs": [],
      "source": [
        "images_path = \"D:\\Praharsha\\Code\\CAMZ\\data\\interim\\X_labelled_data.npy\"\n",
        "labels_path = \"D:\\Praharsha\\Code\\CAMZ\\data\\interim\\y_labelled_data.npy\"\n",
        "\n",
        "transform = transforms.ToTensor()\n",
        "dataset = ZebrafishDataset(images_path, labels_path, transform=transform)\n",
        "\n",
        "train_size = int(0.8 * dataset.__len__())\n",
        "val_size = dataset.__len__() - train_size\n",
        "\n",
        "train_dataset, val_dataset = random_split(dataset, [train_size, val_size])"
      ]
    },
    {
      "cell_type": "code",
      "execution_count": 4,
      "metadata": {},
      "outputs": [],
      "source": [
        "train_loader = DataLoader(dataset = train_dataset, batch_size=32, shuffle=True)\n",
        "val_loader = DataLoader(dataset = val_dataset, batch_size=32, shuffle=True)"
      ]
    },
    {
      "cell_type": "code",
      "execution_count": 5,
      "metadata": {},
      "outputs": [],
      "source": [
        "class CNNModel(nn.Module):\n",
        "    def __init__(self):\n",
        "        super(CNNModel, self).__init__()\n",
        "        \n",
        "        self.conv1 = nn.Conv2d(in_channels=3, out_channels=32, kernel_size=3)\n",
        "        self.pool1 = nn.MaxPool2d(kernel_size=2, stride=2)\n",
        "        self.conv2 = nn.Conv2d(in_channels=32, out_channels=64, kernel_size=3)\n",
        "        self.pool2 = nn.MaxPool2d(kernel_size=2, stride=2)\n",
        "        \n",
        "        self.conv3 = nn.Conv2d(in_channels=64, out_channels=128, kernel_size=3)\n",
        "        self.pool3 = nn.MaxPool2d(kernel_size=2, stride=2)\n",
        "        self.global_avg_pool = nn.AdaptiveAvgPool2d((8, 8))  \n",
        "\n",
        "        self.flatten = nn.Flatten()\n",
        "        self.fc1 = nn.Linear(in_features= 128 * 8 * 8, out_features=128)\n",
        "        self.fc2 = nn.Linear(in_features=128, out_features=64)\n",
        "        self.fc3 = nn.Linear(in_features=64, out_features=4)\n",
        "        \n",
        "        \n",
        "    def forward(self, x):\n",
        "        x = self.pool1(torch.relu(self.conv1(x)))\n",
        "        x = self.pool2(torch.relu(self.conv2(x)))\n",
        "        x = self.global_avg_pool(self.pool3(torch.relu(self.conv3(x))))\n",
        "                \n",
        "        x = self.flatten(x)\n",
        "        x = torch.relu(self.fc1(x))\n",
        "        x = torch.relu(self.fc2(x))\n",
        "        x = torch.sigmoid(self.fc3(x))\n",
        "        \n",
        "        return x\n",
        "        "
      ]
    },
    {
      "cell_type": "code",
      "execution_count": 6,
      "metadata": {},
      "outputs": [],
      "source": [
        "class CompleteBoxLoss(nn.Module):\n",
        "    def __init__(self):\n",
        "        super(CompleteBoxLoss, self).__init__()\n",
        "\n",
        "    def forward(self, pred_boxes, true_boxes, reduction):\n",
        "        ciou = complete_box_iou_loss(pred_boxes, true_boxes, reduction)\n",
        "        \n",
        "        return ciou\n"
      ]
    },
    {
      "cell_type": "code",
      "execution_count": 7,
      "metadata": {},
      "outputs": [],
      "source": [
        "model = CNNModel().to('cuda')\n",
        "ciou_loss_function = CompleteBoxLoss().to('cuda')\n",
        "optimizer = torch.optim.Adam(model.parameters(), lr=0.001)"
      ]
    },
    {
      "cell_type": "code",
      "execution_count": 8,
      "metadata": {},
      "outputs": [
        {
          "name": "stdout",
          "output_type": "stream",
          "text": [
            "CNNModel(\n",
            "  (conv1): Conv2d(3, 32, kernel_size=(3, 3), stride=(1, 1))\n",
            "  (pool1): MaxPool2d(kernel_size=2, stride=2, padding=0, dilation=1, ceil_mode=False)\n",
            "  (conv2): Conv2d(32, 64, kernel_size=(3, 3), stride=(1, 1))\n",
            "  (pool2): MaxPool2d(kernel_size=2, stride=2, padding=0, dilation=1, ceil_mode=False)\n",
            "  (conv3): Conv2d(64, 128, kernel_size=(3, 3), stride=(1, 1))\n",
            "  (pool3): MaxPool2d(kernel_size=2, stride=2, padding=0, dilation=1, ceil_mode=False)\n",
            "  (global_avg_pool): AdaptiveAvgPool2d(output_size=(8, 8))\n",
            "  (flatten): Flatten(start_dim=1, end_dim=-1)\n",
            "  (fc1): Linear(in_features=8192, out_features=128, bias=True)\n",
            "  (fc2): Linear(in_features=128, out_features=64, bias=True)\n",
            "  (fc3): Linear(in_features=64, out_features=4, bias=True)\n",
            ")\n"
          ]
        }
      ],
      "source": [
        "print(model)"
      ]
    },
    {
      "cell_type": "code",
      "execution_count": 9,
      "metadata": {},
      "outputs": [],
      "source": [
        "def Initialize_writer(file_path):\n",
        "    os.makedirs(os.path.dirname(file_path), exist_ok=True)\n",
        "    with open(file_path, mode='w', newline=\"\") as file:\n",
        "        writer = csv.writer(file)\n",
        "        writer.writerow(['epoch', 'loss', 'val_loss'])"
      ]
    },
    {
      "cell_type": "code",
      "execution_count": 10,
      "metadata": {},
      "outputs": [],
      "source": [
        "def validate(model, val_loader, loss_function):\n",
        "    model.eval()\n",
        "    ciou_total_batch_loss = 0.0\n",
        "    \n",
        "    \n",
        "    with torch.no_grad():\n",
        "        for inputs, labels in val_loader:\n",
        "            inputs = inputs.to('cuda')\n",
        "            labels = labels.to('cuda')\n",
        "            outputs = yolo_to_corners(model(inputs), image_width=720, image_height=720)\n",
        "            labels = yolo_to_corners(labels, image_width=720, image_height=720)\n",
        "            \n",
        "            ciou_loss_per_batch = loss_function(outputs, labels, 'mean')\n",
        "            \n",
        "            ciou_total_batch_loss += ciou_loss_per_batch.item()\n",
        "        \n",
        "        \n",
        "        ciou_total_loss = ciou_total_batch_loss / len(val_loader)\n",
        "        \n",
        "        \n",
        "        print(f\"CIoU: {ciou_total_loss:.4f}\", end=\" \")\n",
        "        return ciou_total_loss"
      ]
    },
    {
      "cell_type": "code",
      "execution_count": 11,
      "metadata": {},
      "outputs": [],
      "source": [
        "def train(model, train_loader, optimizer, \n",
        "          loss_function,\n",
        "          history_csv_path, \n",
        "          save_model_checkpoint_path, num_epochs=100, patience=10, delta=0.001, lambda_l1=0.01):\n",
        "    \n",
        "    Initialize_writer(history_csv_path)\n",
        "    \n",
        "    best_val_ciou_loss = float('inf')\n",
        "    early_stopping = 0  # Initialize early stopping counter\n",
        "    \n",
        "    model.train()\n",
        "        \n",
        "    for epoch in range(num_epochs):\n",
        "        ciou_total_batch_loss = 0.0\n",
        "         \n",
        "        for inputs, labels in train_loader:\n",
        "            inputs = inputs.to('cuda')\n",
        "            labels = labels.to('cuda')\n",
        "            \n",
        "            optimizer.zero_grad()\n",
        "            \n",
        "            norm_labels = yolo_to_corners(labels, image_width=720, image_height=720)\n",
        "            outputs = yolo_to_corners(model(inputs), image_width=720, image_height=720)\n",
        "            \n",
        "            # Compute CIoU loss\n",
        "            ciou_loss_per_batch = loss_function(outputs, norm_labels, 'mean')\n",
        "            \n",
        "            # Compute L1 regularization loss\n",
        "            l1_loss = 0.0\n",
        "            for param in model.parameters():\n",
        "                l1_loss += torch.sum(torch.abs(param))\n",
        "            \n",
        "            # Combine CIoU loss with L1 regularization loss\n",
        "            total_loss = ciou_loss_per_batch + lambda_l1 * l1_loss\n",
        "            \n",
        "            # Backpropagation and optimizer step\n",
        "            total_loss.backward()\n",
        "            optimizer.step()\n",
        "            \n",
        "            ciou_total_batch_loss += ciou_loss_per_batch.item()\n",
        "            \n",
        "        # Average CIoU loss for the epoch\n",
        "        ciou_loss_per_epoch = ciou_total_batch_loss / len(train_loader)\n",
        "        \n",
        "        print(end='\\n')\n",
        "        print(f\"Epoch [{epoch+1}/{num_epochs}], CIoU: {ciou_loss_per_epoch:.4f}\", end=\" --- \")\n",
        "        print(f\"Validation for Epoch [{epoch+1}/{num_epochs}]\", end=\", \")\n",
        "        \n",
        "        # Validate model\n",
        "        val_ciou_loss = validate(model, val_loader, loss_function)\n",
        "        \n",
        "        # Check for improvement and save checkpoint\n",
        "        if (best_val_ciou_loss - val_ciou_loss) > delta:\n",
        "            best_val_ciou_loss = val_ciou_loss\n",
        "            checkpoint = {'state_dict': model.state_dict(), 'optimizer': optimizer.state_dict()}\n",
        "            print(\"\\n\")\n",
        "            print(f\"=========Saving Checkpoint======= at Epoch:[{epoch+1}/{num_epochs}]\", end=\"\\n\")\n",
        "            torch.save(checkpoint, save_model_checkpoint_path)\n",
        "            early_stopping = 0\n",
        "        else:\n",
        "            early_stopping += 1 \n",
        "            \n",
        "        # Write training and validation losses to CSV\n",
        "        with open(history_csv_path, mode='a', newline=\"\") as file:\n",
        "            loss_writer = csv.writer(file)\n",
        "            loss_writer.writerow([epoch+1, ciou_loss_per_epoch, val_ciou_loss])\n",
        "        \n",
        "        # Early stopping condition\n",
        "        if early_stopping >= patience:\n",
        "            print(f\"Early stopping occurred at {epoch+1}\")\n",
        "            break\n",
        "             \n",
        "    print(f\"The best Validation Loss is: {best_val_ciou_loss}\")\n"
      ]
    },
    {
      "cell_type": "code",
      "execution_count": 12,
      "metadata": {},
      "outputs": [],
      "source": [
        "history_csv_file = \"D:\\Praharsha\\code\\CAMZ\\models\\model_history\\CNN_loss_logger.csv\"\n",
        "checkpoints_file = 'D:\\Praharsha\\code\\CAMZ\\models\\model_history\\CNN_checkpoint.pth.tar'"
      ]
    },
    {
      "cell_type": "code",
      "execution_count": 13,
      "metadata": {},
      "outputs": [
        {
          "name": "stderr",
          "output_type": "stream",
          "text": [
            "C:\\Users\\USER\\AppData\\Local\\Temp\\ipykernel_34200\\2586282732.py:17: UserWarning: To copy construct from a tensor, it is recommended to use sourceTensor.clone().detach() or sourceTensor.clone().detach().requires_grad_(True), rather than torch.tensor(sourceTensor).\n",
            "  return torch.tensor(image, dtype=torch.float32), torch.tensor(label, dtype=torch.float32)\n"
          ]
        },
        {
          "name": "stdout",
          "output_type": "stream",
          "text": [
            "\n",
            "Epoch [1/200], CIoU: 1.1596 --- Validation for Epoch [1/200], CIoU: 1.1548 \n",
            "\n",
            "=========Saving Checkpoint======= at Epoch:[1/200]\n",
            "\n",
            "Epoch [2/200], CIoU: 1.1484 --- Validation for Epoch [2/200], CIoU: 1.1379 \n",
            "\n",
            "=========Saving Checkpoint======= at Epoch:[2/200]\n",
            "\n",
            "Epoch [3/200], CIoU: 1.1386 --- Validation for Epoch [3/200], CIoU: 1.1323 \n",
            "\n",
            "=========Saving Checkpoint======= at Epoch:[3/200]\n",
            "\n",
            "Epoch [4/200], CIoU: 1.1256 --- Validation for Epoch [4/200], CIoU: 1.1152 \n",
            "\n",
            "=========Saving Checkpoint======= at Epoch:[4/200]\n",
            "\n",
            "Epoch [5/200], CIoU: 1.1038 --- Validation for Epoch [5/200], CIoU: 1.0895 \n",
            "\n",
            "=========Saving Checkpoint======= at Epoch:[5/200]\n",
            "\n",
            "Epoch [6/200], CIoU: 1.0811 --- Validation for Epoch [6/200], CIoU: 1.0723 \n",
            "\n",
            "=========Saving Checkpoint======= at Epoch:[6/200]\n",
            "\n",
            "Epoch [7/200], CIoU: 1.0700 --- Validation for Epoch [7/200], CIoU: 1.0632 \n",
            "\n",
            "=========Saving Checkpoint======= at Epoch:[7/200]\n",
            "\n",
            "Epoch [8/200], CIoU: 1.0627 --- Validation for Epoch [8/200], CIoU: 1.0612 \n",
            "\n",
            "=========Saving Checkpoint======= at Epoch:[8/200]\n",
            "\n",
            "Epoch [9/200], CIoU: 1.0578 --- Validation for Epoch [9/200], CIoU: 1.0517 \n",
            "\n",
            "=========Saving Checkpoint======= at Epoch:[9/200]\n",
            "\n",
            "Epoch [10/200], CIoU: 1.0547 --- Validation for Epoch [10/200], CIoU: 1.0501 \n",
            "\n",
            "=========Saving Checkpoint======= at Epoch:[10/200]\n",
            "\n",
            "Epoch [11/200], CIoU: 1.0519 --- Validation for Epoch [11/200], CIoU: 1.0514 \n",
            "Epoch [12/200], CIoU: 1.0503 --- Validation for Epoch [12/200], CIoU: 1.0463 \n",
            "\n",
            "=========Saving Checkpoint======= at Epoch:[12/200]\n",
            "\n",
            "Epoch [13/200], CIoU: 1.0489 --- Validation for Epoch [13/200], CIoU: 1.0482 \n",
            "Epoch [14/200], CIoU: 1.0477 --- Validation for Epoch [14/200], CIoU: 1.0484 \n",
            "Epoch [15/200], CIoU: 1.0469 --- Validation for Epoch [15/200], CIoU: 1.0462 \n",
            "Epoch [16/200], CIoU: 1.0457 --- Validation for Epoch [16/200], CIoU: 1.0461 \n",
            "Epoch [17/200], CIoU: 1.0456 --- Validation for Epoch [17/200], CIoU: 1.0481 \n",
            "Epoch [18/200], CIoU: 1.0447 --- Validation for Epoch [18/200], CIoU: 1.0429 \n",
            "\n",
            "=========Saving Checkpoint======= at Epoch:[18/200]\n",
            "\n",
            "Epoch [19/200], CIoU: 1.0438 --- Validation for Epoch [19/200], CIoU: 1.0428 \n",
            "Epoch [20/200], CIoU: 1.0433 --- Validation for Epoch [20/200], CIoU: 1.0453 \n",
            "Epoch [21/200], CIoU: 1.0428 --- Validation for Epoch [21/200], CIoU: 1.0408 \n",
            "\n",
            "=========Saving Checkpoint======= at Epoch:[21/200]\n",
            "\n",
            "Epoch [22/200], CIoU: 1.0419 --- Validation for Epoch [22/200], CIoU: 1.0433 \n",
            "Epoch [23/200], CIoU: 1.0416 --- Validation for Epoch [23/200], CIoU: 1.0394 \n",
            "\n",
            "=========Saving Checkpoint======= at Epoch:[23/200]\n",
            "\n",
            "Epoch [24/200], CIoU: 1.0410 --- Validation for Epoch [24/200], CIoU: 1.0381 \n",
            "\n",
            "=========Saving Checkpoint======= at Epoch:[24/200]\n",
            "\n",
            "Epoch [25/200], CIoU: 1.0405 --- Validation for Epoch [25/200], CIoU: 1.0386 \n",
            "Epoch [26/200], CIoU: 1.0404 --- Validation for Epoch [26/200], CIoU: 1.0386 \n",
            "Epoch [27/200], CIoU: 1.0400 --- Validation for Epoch [27/200], CIoU: 1.0371 \n",
            "\n",
            "=========Saving Checkpoint======= at Epoch:[27/200]\n",
            "\n",
            "Epoch [28/200], CIoU: 1.0394 --- Validation for Epoch [28/200], CIoU: 1.0374 \n",
            "Epoch [29/200], CIoU: 1.0397 --- Validation for Epoch [29/200], CIoU: 1.0369 \n",
            "Epoch [30/200], CIoU: 1.0389 --- Validation for Epoch [30/200], CIoU: 1.0374 \n",
            "Epoch [31/200], CIoU: 1.0385 --- Validation for Epoch [31/200], CIoU: 1.0365 \n",
            "Epoch [32/200], CIoU: 1.0386 --- Validation for Epoch [32/200], CIoU: 1.0378 \n",
            "Epoch [33/200], CIoU: 1.0384 --- Validation for Epoch [33/200], CIoU: 1.0369 \n",
            "Epoch [34/200], CIoU: 1.0381 --- Validation for Epoch [34/200], CIoU: 1.0378 \n",
            "Epoch [35/200], CIoU: 1.0383 --- Validation for Epoch [35/200], CIoU: 1.0365 \n",
            "Epoch [36/200], CIoU: 1.0378 --- Validation for Epoch [36/200], CIoU: 1.0356 \n",
            "\n",
            "=========Saving Checkpoint======= at Epoch:[36/200]\n",
            "\n",
            "Epoch [37/200], CIoU: 1.0375 --- Validation for Epoch [37/200], CIoU: 1.0344 \n",
            "\n",
            "=========Saving Checkpoint======= at Epoch:[37/200]\n",
            "\n",
            "Epoch [38/200], CIoU: 1.0376 --- Validation for Epoch [38/200], CIoU: 1.0358 \n",
            "Epoch [39/200], CIoU: 1.0374 --- Validation for Epoch [39/200], CIoU: 1.0339 \n",
            "Epoch [40/200], CIoU: 1.0369 --- Validation for Epoch [40/200], CIoU: 1.0364 \n",
            "Epoch [41/200], CIoU: 1.0366 --- Validation for Epoch [41/200], CIoU: 1.0353 \n",
            "Epoch [42/200], CIoU: 1.0366 --- Validation for Epoch [42/200], CIoU: 1.0356 \n",
            "Epoch [43/200], CIoU: 1.0364 --- Validation for Epoch [43/200], CIoU: 1.0350 \n",
            "Epoch [44/200], CIoU: 1.0364 --- Validation for Epoch [44/200], CIoU: 1.0334 \n",
            "\n",
            "=========Saving Checkpoint======= at Epoch:[44/200]\n",
            "\n",
            "Epoch [45/200], CIoU: 1.0362 --- Validation for Epoch [45/200], CIoU: 1.0349 \n",
            "Epoch [46/200], CIoU: 1.0358 --- Validation for Epoch [46/200], CIoU: 1.0359 \n",
            "Epoch [47/200], CIoU: 1.0359 --- Validation for Epoch [47/200], CIoU: 1.0356 \n",
            "Epoch [48/200], CIoU: 1.0357 --- Validation for Epoch [48/200], CIoU: 1.0344 \n",
            "Epoch [49/200], CIoU: 1.0354 --- Validation for Epoch [49/200], CIoU: 1.0341 \n",
            "Epoch [50/200], CIoU: 1.0356 --- Validation for Epoch [50/200], CIoU: 1.0323 \n",
            "\n",
            "=========Saving Checkpoint======= at Epoch:[50/200]\n",
            "\n",
            "Epoch [51/200], CIoU: 1.0357 --- Validation for Epoch [51/200], CIoU: 1.0363 \n",
            "Epoch [52/200], CIoU: 1.0353 --- Validation for Epoch [52/200], CIoU: 1.0369 \n",
            "Epoch [53/200], CIoU: 1.0351 --- Validation for Epoch [53/200], CIoU: 1.0401 \n",
            "Epoch [54/200], CIoU: 1.0350 --- Validation for Epoch [54/200], CIoU: 1.0386 \n",
            "Epoch [55/200], CIoU: 1.0350 --- Validation for Epoch [55/200], CIoU: 1.0338 \n",
            "Epoch [56/200], CIoU: 1.0351 --- Validation for Epoch [56/200], CIoU: 1.0334 \n",
            "Epoch [57/200], CIoU: 1.0348 --- Validation for Epoch [57/200], CIoU: 1.0329 \n",
            "Epoch [58/200], CIoU: 1.0348 --- Validation for Epoch [58/200], CIoU: 1.0343 \n",
            "Epoch [59/200], CIoU: 1.0349 --- Validation for Epoch [59/200], CIoU: 1.0359 \n",
            "Epoch [60/200], CIoU: 1.0345 --- Validation for Epoch [60/200], CIoU: 1.0333 Early stopping occurred at 60\n",
            "The best Validation Loss is: 1.0322616934776305\n"
          ]
        }
      ],
      "source": [
        "train(model, train_loader, optimizer, ciou_loss_function,history_csv_path=history_csv_file,\n",
        "      save_model_checkpoint_path=checkpoints_file, num_epochs=200)"
      ]
    },
    {
      "cell_type": "code",
      "execution_count": 14,
      "metadata": {},
      "outputs": [
        {
          "name": "stdout",
          "output_type": "stream",
          "text": [
            "The best loss of 1.0345215546457391 achieved at Epoch: 60\n"
          ]
        },
        {
          "data": {
            "image/png": "[encoded data removed]",
            "text/plain": [
              "<Figure size 1000x600 with 1 Axes>"
            ]
          },
          "metadata": {},
          "output_type": "display_data"
        }
      ],
      "source": [
        "from loss_curve_visualization import plot_loss_curves\n",
        "plot_loss_curves(\"D:\\Praharsha\\code\\CAMZ\\models\\model_history\\CNN_loss_logger.csv\")"
      ]
    },
    {
      "cell_type": "code",
      "execution_count": null,
      "metadata": {},
      "outputs": [],
      "source": [
        "def load_checkpoint(checkpoint, architecture, optimizer):\n",
        "    print(\"loading checkpoint...\")\n",
        "    checkpoint = torch.load(checkpoint)\n",
        "    \n",
        "    model = architecture()\n",
        "    \n",
        "    model.load_state_dict(checkpoint['state_dict'])\n",
        "    optimizer.load_state_dict(checkpoint['optimizer'])\n",
        "\n",
        "    return model.eval()\n",
        "model = load_checkpoint(\"D:\\Praharsha\\code\\CAMZ\\models\\model_history\\CNN_checkpoint.pth.tar\", CNNModel, optimizer)"
      ]
    },
    {
      "cell_type": "code",
      "execution_count": null,
      "metadata": {},
      "outputs": [],
      "source": [
        "image_path1 = r\"E:\\DIL\\Fish_classification_ViT\\data\\1Lcrop989.jpg.jpg\"\n",
        "image_path2 = r\"E:\\DIL\\Fish_classification_ViT\\data\\1Lcrop284.jpg.jpg\"\n",
        "image_path3 = r\"E:\\DIL\\Fish_classification_ViT\\data\\1Lcrop313.jpg.jpg\"\n",
        "\n",
        "visualize_prediction(image_path1, labels_path=r\"E:\\DIL\\Fish_classification_ViT\\data\\labels\",\n",
        "                     model=model)\n",
        "    "
      ]
    },
    {
      "cell_type": "code",
      "execution_count": null,
      "metadata": {},
      "outputs": [],
      "source": [
        "visualize_prediction(image_path2, labels_path=r\"E:\\DIL\\Fish_classification_ViT\\data\\labels\",\n",
        "                     model=model)"
      ]
    },
    {
      "cell_type": "code",
      "execution_count": null,
      "metadata": {},
      "outputs": [],
      "source": [
        "visualize_prediction(image_path3, labels_path=r\"E:\\DIL\\Fish_classification_ViT\\data\\labels\",\n",
        "                     model=model)"
      ]
    },
    {
      "cell_type": "code",
      "execution_count": null,
      "metadata": {},
      "outputs": [],
      "source": []
    }
  ],
  "metadata": {
    "accelerator": "GPU",
    "colab": {
      "gpuType": "T4",
      "provenance": []
    },
    "kernelspec": {
      "display_name": "tf",
      "language": "python",
      "name": "python3"
    },
    "language_info": {
      "codemirror_mode": {
        "name": "ipython",
        "version": 3
      },
      "file_extension": ".py",
      "mimetype": "text/x-python",
      "name": "python",
      "nbconvert_exporter": "python",
      "pygments_lexer": "ipython3",
      "version": "3.9.19"
    }
  },
  "nbformat": 4,
  "nbformat_minor": 0
}
