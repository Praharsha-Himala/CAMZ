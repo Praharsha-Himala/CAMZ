{
 "cells": [
  {
   "cell_type": "code",
   "execution_count": 1,
   "metadata": {},
   "outputs": [],
   "source": [
    "import torch\n",
    "import torch.nn as nn\n",
    "from torch.utils.data import Dataset, DataLoader\n",
    "from torchvision import transforms\n",
    "from bbox_plotter import yolo_to_corners\n",
    "from torchvision.ops import complete_box_iou_loss\n",
    "from PIL import Image\n",
    "import numpy as np\n",
    "import csv\n",
    "import os\n",
    "from bbox_plotter import visualize_prediction\n",
    "import pandas as pd"
   ]
  },
  {
   "cell_type": "code",
   "execution_count": 3,
   "metadata": {},
   "outputs": [],
   "source": [
    "class UnlabelledDataset():\n",
    "    def __init__(self, image_dir, transform=None):\n",
    "        self.image_dir = image_dir\n",
    "        self.image_paths = [os.path.join(image_dir, f) for f in os.listdir(image_dir) if f.endswith('.jpg.jpg')]\n",
    "        self.transform = transform\n",
    "        \n",
    "    def __len__(self):\n",
    "        return len(self.image_paths)\n",
    "    \n",
    "    def __getitem__(self, idx):\n",
    "        img_path = self.image_paths[idx]\n",
    "        image = Image.open(img_path).convert('RGB')\n",
    "        if self.transform:\n",
    "            image = self.transform(image)\n",
    "        return image, img_path"
   ]
  },
  {
   "cell_type": "code",
   "execution_count": 4,
   "metadata": {},
   "outputs": [
    {
     "name": "stdout",
     "output_type": "stream",
     "text": [
      "15\n"
     ]
    }
   ],
   "source": [
    "unlabelled_dataset_dir = r\"E:\\DIL\\Fish_classification_ViT\\unlabelled_data\"\n",
    "\n",
    "transform = transforms.Compose([transforms.Resize((224, 224)),\n",
    "                                transforms.ToTensor()])\n",
    "\n",
    "unlabelled_dataset = UnlabelledDataset(unlabelled_dataset_dir, transform=transform)\n",
    "print(unlabelled_dataset.__len__())"
   ]
  },
  {
   "cell_type": "code",
   "execution_count": 5,
   "metadata": {},
   "outputs": [],
   "source": [
    "class CNNModel(nn.Module):\n",
    "    def __init__(self):\n",
    "        super(CNNModel, self).__init__()\n",
    "        \n",
    "        self.conv1 = nn.Conv2d(in_channels=3, out_channels=32, kernel_size=3)\n",
    "        self.pool1 = nn.MaxPool2d(kernel_size=2, stride=2)\n",
    "        self.conv2 = nn.Conv2d(in_channels=32, out_channels=64, kernel_size=3)\n",
    "        self.pool2 = nn.MaxPool2d(kernel_size=2, stride=2)\n",
    "        \n",
    "        self.conv3 = nn.Conv2d(in_channels=64, out_channels=128, kernel_size=3)\n",
    "        self.pool3 = nn.MaxPool2d(kernel_size=2, stride=2)\n",
    "        # self.global_avg_pool = nn.AdaptiveAvgPool2d((8, 8))  \n",
    "\n",
    "        self.flatten = nn.Flatten()\n",
    "        self.fc1 = nn.Linear(in_features= 128 * 26 * 26, out_features=128)\n",
    "        self.fc2 = nn.Linear(in_features=128, out_features=64)\n",
    "        self.fc3 = nn.Linear(in_features=64, out_features=4)\n",
    "        \n",
    "        \n",
    "    def forward(self, x):\n",
    "        x = self.pool1(torch.relu(self.conv1(x)))\n",
    "        x = self.pool2(torch.relu(self.conv2(x)))\n",
    "        x = self.pool3(torch.relu(self.conv3(x)))                \n",
    "        x = self.flatten(x)\n",
    "        x = torch.relu(self.fc1(x))\n",
    "        x = torch.relu(self.fc2(x))\n",
    "        x = torch.sigmoid(self.fc3(x))\n",
    "        \n",
    "        return x\n",
    "        "
   ]
  },
  {
   "cell_type": "code",
   "execution_count": 6,
   "metadata": {},
   "outputs": [],
   "source": [
    "class CompleteBoxLoss(nn.Module):\n",
    "    def __init__(self):\n",
    "        super(CompleteBoxLoss, self).__init__()\n",
    "\n",
    "    def forward(self, pred_boxes, true_boxes, reduction):\n",
    "        ciou = complete_box_iou_loss(pred_boxes, true_boxes, reduction)\n",
    "        \n",
    "        return ciou\n"
   ]
  },
  {
   "cell_type": "code",
   "execution_count": 7,
   "metadata": {},
   "outputs": [],
   "source": [
    "model = CNNModel()\n",
    "ciou_loss_function = CompleteBoxLoss()\n",
    "optimizer = torch.optim.Adam(model.parameters(), lr=0.001)"
   ]
  },
  {
   "cell_type": "code",
   "execution_count": 8,
   "metadata": {},
   "outputs": [
    {
     "name": "stdout",
     "output_type": "stream",
     "text": [
      "loading checkpoint...\n"
     ]
    },
    {
     "name": "stderr",
     "output_type": "stream",
     "text": [
      "C:\\Users\\HARSHU\\AppData\\Local\\Temp\\ipykernel_19252\\1324638982.py:3: FutureWarning: You are using `torch.load` with `weights_only=False` (the current default value), which uses the default pickle module implicitly. It is possible to construct malicious pickle data which will execute arbitrary code during unpickling (See https://github.com/pytorch/pytorch/blob/main/SECURITY.md#untrusted-models for more details). In a future release, the default value for `weights_only` will be flipped to `True`. This limits the functions that could be executed during unpickling. Arbitrary objects will no longer be allowed to be loaded via this mode unless they are explicitly allowlisted by the user via `torch.serialization.add_safe_globals`. We recommend you start setting `weights_only=True` for any use case where you don't have full control of the loaded file. Please open an issue on GitHub for any issues related to this experimental feature.\n",
      "  checkpoint = torch.load(checkpoint)\n"
     ]
    }
   ],
   "source": [
    "def load_checkpoint(checkpoint, architecture, optimizer):\n",
    "    print(\"loading checkpoint...\")\n",
    "    checkpoint = torch.load(checkpoint)\n",
    "    \n",
    "    model = architecture()\n",
    "    \n",
    "    model.load_state_dict(checkpoint['state_dict'])\n",
    "    optimizer.load_state_dict(checkpoint['optimizer'])\n",
    "\n",
    "    return model.eval()\n",
    "model = load_checkpoint(\"E:\\Code\\CAMZ\\models\\CNN_checkpoint.pth.tar\", CNNModel, optimizer)"
   ]
  },
  {
   "cell_type": "code",
   "execution_count": 9,
   "metadata": {},
   "outputs": [],
   "source": [
    "def generate_pseudo_labels(model, csv_path, dataloader):\n",
    "    pseudo_labels = []\n",
    "    image_paths = []\n",
    "    \n",
    "    with torch.no_grad():\n",
    "        for images, paths in dataloader:\n",
    "            outputs = yolo_to_corners(model(images), 720, 720)\n",
    "            optimizer.zero_grad()\n",
    "                \n",
    "            pseudo_labels.extend(np.array(outputs))\n",
    "            image_paths.extend(paths)\n",
    "            \n",
    "            with open(csv_path, mode='w', newline='') as file:\n",
    "                writer = csv.writer(file)\n",
    "                writer.writerow(['image_path', 'pseudo_label'])\n",
    "                for img_path, label in zip(image_paths, pseudo_labels):\n",
    "                    writer.writerow([img_path, label])        \n",
    "    print(\"-----------------------------------pseudo labels are generated!----------------------------------------\")\n",
    "        \n"
   ]
  },
  {
   "cell_type": "code",
   "execution_count": 10,
   "metadata": {},
   "outputs": [
    {
     "name": "stdout",
     "output_type": "stream",
     "text": [
      "-----------------------------------pseudo labels are generated!----------------------------------------\n"
     ]
    }
   ],
   "source": [
    "csv_path = r'E:\\DIL\\Fish_classification_ViT\\unlabelled_data\\pseudo_labels.csv' \n",
    "unlabelled_dataloader = DataLoader(unlabelled_dataset, batch_size=32, shuffle=False)\n",
    "generate_pseudo_labels(model,csv_path, dataloader=unlabelled_dataloader)       "
   ]
  },
  {
   "cell_type": "code",
   "execution_count": 11,
   "metadata": {},
   "outputs": [],
   "source": [
    "class PseudoLablledDataset(Dataset):\n",
    "    def __init__(self, img_dir, pseudo_labels_df, transform=None):\n",
    "        self.img_dir = img_dir\n",
    "        self.pseudo_labels_df = pseudo_labels_df\n",
    "        self.transform = transform\n",
    "        \n",
    "    def __len__(self):\n",
    "        return len(self.pseudo_labels_df)\n",
    "    \n",
    "    def __getitem__(self, idx):\n",
    "        img_path = os.path.join(self.img_dir, self.pseudo_labels_df.iloc[idx, 0])\n",
    "        label = self.pseudo_labels_df.iloc[idx, 1]\n",
    "        label = label.strip('[]')\n",
    "        label_a = np.array([float(x) for x in label.split()], dtype=np.float32)\n",
    "        label = torch.tensor(label_a, dtype=torch.float32)\n",
    "        \n",
    "        image = Image.open(img_path).convert('RGB')\n",
    "        if self.transform:\n",
    "            image = self.transform(image)\n",
    "        return image, label"
   ]
  },
  {
   "cell_type": "code",
   "execution_count": 12,
   "metadata": {},
   "outputs": [],
   "source": [
    "pseudo_labels_df = pd.read_csv(csv_path) \n",
    "pseudo_lables_dataset = PseudoLablledDataset(img_dir=unlabelled_dataset_dir, pseudo_labels_df=pseudo_labels_df,\n",
    "                                             transform=transform)\n",
    "\n",
    "pseudo_labels_dataloader = DataLoader(pseudo_lables_dataset, batch_size=32, shuffle=True)"
   ]
  },
  {
   "cell_type": "code",
   "execution_count": 14,
   "metadata": {},
   "outputs": [],
   "source": [
    "def Initialize_writer(file_path):\n",
    "    print(file_path)\n",
    "    os.makedirs(os.path.dirname(file_path), exist_ok=True)\n",
    "    with open(file_path, mode='w', newline=\"\") as file:\n",
    "        writer = csv.writer(file)\n",
    "        writer.writerow(['epoch', 'loss'])"
   ]
  },
  {
   "cell_type": "code",
   "execution_count": 15,
   "metadata": {},
   "outputs": [],
   "source": [
    "num_epochs = 2\n",
    "unlabelled_history_csv_file = r\"E:\\Code\\CAMZ\\models\\model_history\\unlabelled_CNN_loss_logger.csv\"\n",
    "unlablled_checkpoints_file = r\"E:\\Code\\CAMZ\\models\\model_history\\unlabelled_CNN_checkpoint.pth.tar\""
   ]
  },
  {
   "cell_type": "code",
   "execution_count": 22,
   "metadata": {},
   "outputs": [],
   "source": [
    "def train(model, train_loader, optimizer, \n",
    "          loss_function,\n",
    "          history_csv_path, \n",
    "          save_model_checkpoint_path, num_epochs=1, patience=10, delta = 0.001):\n",
    "    \n",
    "    Initialize_writer(history_csv_path)\n",
    "    early_stopping = 0\n",
    "    \n",
    "    best_ciou_loss = float('inf')\n",
    "    \n",
    "    model.train()\n",
    "        \n",
    "    for epoch in range(num_epochs):\n",
    "        ciou_total_batch_loss = 0.0\n",
    "         \n",
    "        for inputs, labels in pseudo_labels_dataloader:\n",
    "            inputs = inputs\n",
    "            labels = labels\n",
    "            \n",
    "            optimizer.zero_grad()\n",
    "            \n",
    "            outputs = yolo_to_corners(model(inputs), image_width=720, image_height=720)\n",
    "                     \n",
    "            ciou_loss_per_batch = loss_function(outputs, labels, 'mean')\n",
    "            \n",
    "            ciou_loss_per_batch.backward()\n",
    "            \n",
    "            optimizer.step()\n",
    "            \n",
    "            ciou_total_batch_loss += ciou_loss_per_batch.item()\n",
    "            \n",
    "        ciou_loss_per_epoch = ciou_total_batch_loss / len(train_loader)\n",
    "        \n",
    "        print(end='\\n')\n",
    "        print(f\"Epoch [{epoch+1}/{num_epochs}], CIoU: {ciou_loss_per_epoch:.4f}\", end=\" --- \")\n",
    "\n",
    "        \n",
    "        \n",
    "        if (best_ciou_loss - ciou_loss_per_epoch) > delta:\n",
    "            best_ciou_loss = ciou_loss_per_epoch\n",
    "            checkpoint = {'state_dict': model.state_dict(), 'optimizer': optimizer.state_dict()}\n",
    "            print(\"\\n\")\n",
    "            print(f\"=========Saving Checkpoint======= at Epoch:[{epoch+1}/{num_epochs}]\", end=\"\\n\")\n",
    "            torch.save(checkpoint, save_model_checkpoint_path)\n",
    "            early_stopping = 0\n",
    "        \n",
    "        else:\n",
    "            early_stopping+=1 \n",
    "            \n",
    "\n",
    "        \n",
    "        with open(history_csv_path, mode='a', newline=\"\") as file:\n",
    "            loss_writer = csv.writer(file)\n",
    "            loss_writer.writerow([epoch+1, ciou_loss_per_epoch])\n",
    "        \n",
    "        if early_stopping >= patience:\n",
    "            print(f\"Early stopping occured at {epoch+1}\")\n",
    "            break\n",
    "             \n",
    "    print(f\"The best Validation Loss is: {best_ciou_loss}\")"
   ]
  },
  {
   "cell_type": "code",
   "execution_count": 23,
   "metadata": {},
   "outputs": [
    {
     "name": "stdout",
     "output_type": "stream",
     "text": [
      "E:\\Code\\CAMZ\\models\\model_history\\unlabelled_CNN_loss_logger.csv\n",
      "\n",
      "Epoch [1/2], CIoU: 0.0000 --- \n",
      "\n",
      "=========Saving Checkpoint======= at Epoch:[1/2]\n",
      "\n",
      "Epoch [2/2], CIoU: 0.0000 --- The best Validation Loss is: 0.0\n"
     ]
    }
   ],
   "source": [
    "train(model, unlabelled_dataloader, optimizer, ciou_loss_function, unlabelled_history_csv_file,\n",
    "      unlablled_checkpoints_file, num_epochs=2)"
   ]
  }
 ],
 "metadata": {
  "kernelspec": {
   "display_name": "Python 3",
   "language": "python",
   "name": "python3"
  },
  "language_info": {
   "codemirror_mode": {
    "name": "ipython",
    "version": 3
   },
   "file_extension": ".py",
   "mimetype": "text/x-python",
   "name": "python",
   "nbconvert_exporter": "python",
   "pygments_lexer": "ipython3",
   "version": "3.11.9"
  }
 },
 "nbformat": 4,
 "nbformat_minor": 2
}
